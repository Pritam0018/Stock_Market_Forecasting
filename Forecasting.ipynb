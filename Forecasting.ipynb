{
  "cells": [
    {
      "cell_type": "markdown",
      "metadata": {
        "id": "D9Sipz4z50v-"
      },
      "source": [
        "### Stock Market Prediction And Forecasting Using Stacked LSTM"
      ]
    },
    {
      "cell_type": "code",
      "execution_count": 46,
      "metadata": {
        "id": "ODV9I_Gc50wB"
      },
      "outputs": [],
      "source": [
        "import pandas as pd\n",
        "import matplotlib.pyplot as plt\n",
        "import seaborn as sns\n",
        "import numpy as np"
      ]
    },
    {
      "cell_type": "code",
      "execution_count": 47,
      "metadata": {
        "id": "vcbtZLJX50wB"
      },
      "outputs": [],
      "source": [
        "df=pd.read_csv('/content/GOOGL_2006-01-01_to_2018-01-01.csv')"
      ]
    },
    {
      "cell_type": "code",
      "execution_count": 48,
      "metadata": {
        "colab": {
          "base_uri": "https://localhost:8080/",
          "height": 206
        },
        "id": "qak7Z2FG50wB",
        "outputId": "291a1317-120d-458c-a3e2-80db9e489075"
      },
      "outputs": [
        {
          "data": {
            "application/vnd.google.colaboratory.intrinsic+json": {
              "summary": "{\n  \"name\": \"df\",\n  \"rows\": 3019,\n  \"fields\": [\n    {\n      \"column\": \"Date\",\n      \"properties\": {\n        \"dtype\": \"object\",\n        \"num_unique_values\": 3019,\n        \"samples\": [\n          \"2011-08-11\",\n          \"2012-03-20\",\n          \"2006-10-23\"\n        ],\n        \"semantic_type\": \"\",\n        \"description\": \"\"\n      }\n    },\n    {\n      \"column\": \"Open\",\n      \"properties\": {\n        \"dtype\": \"number\",\n        \"std\": 236.3200256326085,\n        \"min\": 131.39,\n        \"max\": 1083.02,\n        \"num_unique_values\": 2880,\n        \"samples\": [\n          349.25,\n          301.71,\n          766.57\n        ],\n        \"semantic_type\": \"\",\n        \"description\": \"\"\n      }\n    },\n    {\n      \"column\": \"High\",\n      \"properties\": {\n        \"dtype\": \"number\",\n        \"std\": 237.51408686940204,\n        \"min\": 134.82,\n        \"max\": 1086.49,\n        \"num_unique_values\": 2855,\n        \"samples\": [\n          383.38,\n          445.95,\n          160.16\n        ],\n        \"semantic_type\": \"\",\n        \"description\": \"\"\n      }\n    },\n    {\n      \"column\": \"Low\",\n      \"properties\": {\n        \"dtype\": \"number\",\n        \"std\": 234.92374721821614,\n        \"min\": 123.77,\n        \"max\": 1072.27,\n        \"num_unique_values\": 2875,\n        \"samples\": [\n          158.83,\n          756.03,\n          259.75\n        ],\n        \"semantic_type\": \"\",\n        \"description\": \"\"\n      }\n    },\n    {\n      \"column\": \"Close\",\n      \"properties\": {\n        \"dtype\": \"number\",\n        \"std\": 236.34323838709707,\n        \"min\": 128.85,\n        \"max\": 1085.09,\n        \"num_unique_values\": 2919,\n        \"samples\": [\n          733.79,\n          750.24,\n          642.0\n        ],\n        \"semantic_type\": \"\",\n        \"description\": \"\"\n      }\n    },\n    {\n      \"column\": \"Volume\",\n      \"properties\": {\n        \"dtype\": \"number\",\n        \"std\": 3038599,\n        \"min\": 521141,\n        \"max\": 41182889,\n        \"num_unique_values\": 3019,\n        \"samples\": [\n          4832119,\n          1540778,\n          15113954\n        ],\n        \"semantic_type\": \"\",\n        \"description\": \"\"\n      }\n    },\n    {\n      \"column\": \"Name\",\n      \"properties\": {\n        \"dtype\": \"category\",\n        \"num_unique_values\": 1,\n        \"samples\": [\n          \"GOOGL\"\n        ],\n        \"semantic_type\": \"\",\n        \"description\": \"\"\n      }\n    }\n  ]\n}",
              "type": "dataframe",
              "variable_name": "df"
            },
            "text/html": [
              "\n",
              "  <div id=\"df-f9b9ce52-4d38-4454-9e32-f44032345dfe\" class=\"colab-df-container\">\n",
              "    <div>\n",
              "<style scoped>\n",
              "    .dataframe tbody tr th:only-of-type {\n",
              "        vertical-align: middle;\n",
              "    }\n",
              "\n",
              "    .dataframe tbody tr th {\n",
              "        vertical-align: top;\n",
              "    }\n",
              "\n",
              "    .dataframe thead th {\n",
              "        text-align: right;\n",
              "    }\n",
              "</style>\n",
              "<table border=\"1\" class=\"dataframe\">\n",
              "  <thead>\n",
              "    <tr style=\"text-align: right;\">\n",
              "      <th></th>\n",
              "      <th>Date</th>\n",
              "      <th>Open</th>\n",
              "      <th>High</th>\n",
              "      <th>Low</th>\n",
              "      <th>Close</th>\n",
              "      <th>Volume</th>\n",
              "      <th>Name</th>\n",
              "    </tr>\n",
              "  </thead>\n",
              "  <tbody>\n",
              "    <tr>\n",
              "      <th>0</th>\n",
              "      <td>2006-01-03</td>\n",
              "      <td>211.47</td>\n",
              "      <td>218.05</td>\n",
              "      <td>209.32</td>\n",
              "      <td>217.83</td>\n",
              "      <td>13137450</td>\n",
              "      <td>GOOGL</td>\n",
              "    </tr>\n",
              "    <tr>\n",
              "      <th>1</th>\n",
              "      <td>2006-01-04</td>\n",
              "      <td>222.17</td>\n",
              "      <td>224.70</td>\n",
              "      <td>220.09</td>\n",
              "      <td>222.84</td>\n",
              "      <td>15292353</td>\n",
              "      <td>GOOGL</td>\n",
              "    </tr>\n",
              "    <tr>\n",
              "      <th>2</th>\n",
              "      <td>2006-01-05</td>\n",
              "      <td>223.22</td>\n",
              "      <td>226.00</td>\n",
              "      <td>220.97</td>\n",
              "      <td>225.85</td>\n",
              "      <td>10815661</td>\n",
              "      <td>GOOGL</td>\n",
              "    </tr>\n",
              "    <tr>\n",
              "      <th>3</th>\n",
              "      <td>2006-01-06</td>\n",
              "      <td>228.66</td>\n",
              "      <td>235.49</td>\n",
              "      <td>226.85</td>\n",
              "      <td>233.06</td>\n",
              "      <td>17759521</td>\n",
              "      <td>GOOGL</td>\n",
              "    </tr>\n",
              "    <tr>\n",
              "      <th>4</th>\n",
              "      <td>2006-01-09</td>\n",
              "      <td>233.44</td>\n",
              "      <td>236.94</td>\n",
              "      <td>230.70</td>\n",
              "      <td>233.68</td>\n",
              "      <td>12795837</td>\n",
              "      <td>GOOGL</td>\n",
              "    </tr>\n",
              "  </tbody>\n",
              "</table>\n",
              "</div>\n",
              "    <div class=\"colab-df-buttons\">\n",
              "\n",
              "  <div class=\"colab-df-container\">\n",
              "    <button class=\"colab-df-convert\" onclick=\"convertToInteractive('df-f9b9ce52-4d38-4454-9e32-f44032345dfe')\"\n",
              "            title=\"Convert this dataframe to an interactive table.\"\n",
              "            style=\"display:none;\">\n",
              "\n",
              "  <svg xmlns=\"http://www.w3.org/2000/svg\" height=\"24px\" viewBox=\"0 -960 960 960\">\n",
              "    <path d=\"M120-120v-720h720v720H120Zm60-500h600v-160H180v160Zm220 220h160v-160H400v160Zm0 220h160v-160H400v160ZM180-400h160v-160H180v160Zm440 0h160v-160H620v160ZM180-180h160v-160H180v160Zm440 0h160v-160H620v160Z\"/>\n",
              "  </svg>\n",
              "    </button>\n",
              "\n",
              "  <style>\n",
              "    .colab-df-container {\n",
              "      display:flex;\n",
              "      gap: 12px;\n",
              "    }\n",
              "\n",
              "    .colab-df-convert {\n",
              "      background-color: #E8F0FE;\n",
              "      border: none;\n",
              "      border-radius: 50%;\n",
              "      cursor: pointer;\n",
              "      display: none;\n",
              "      fill: #1967D2;\n",
              "      height: 32px;\n",
              "      padding: 0 0 0 0;\n",
              "      width: 32px;\n",
              "    }\n",
              "\n",
              "    .colab-df-convert:hover {\n",
              "      background-color: #E2EBFA;\n",
              "      box-shadow: 0px 1px 2px rgba(60, 64, 67, 0.3), 0px 1px 3px 1px rgba(60, 64, 67, 0.15);\n",
              "      fill: #174EA6;\n",
              "    }\n",
              "\n",
              "    .colab-df-buttons div {\n",
              "      margin-bottom: 4px;\n",
              "    }\n",
              "\n",
              "    [theme=dark] .colab-df-convert {\n",
              "      background-color: #3B4455;\n",
              "      fill: #D2E3FC;\n",
              "    }\n",
              "\n",
              "    [theme=dark] .colab-df-convert:hover {\n",
              "      background-color: #434B5C;\n",
              "      box-shadow: 0px 1px 3px 1px rgba(0, 0, 0, 0.15);\n",
              "      filter: drop-shadow(0px 1px 2px rgba(0, 0, 0, 0.3));\n",
              "      fill: #FFFFFF;\n",
              "    }\n",
              "  </style>\n",
              "\n",
              "    <script>\n",
              "      const buttonEl =\n",
              "        document.querySelector('#df-f9b9ce52-4d38-4454-9e32-f44032345dfe button.colab-df-convert');\n",
              "      buttonEl.style.display =\n",
              "        google.colab.kernel.accessAllowed ? 'block' : 'none';\n",
              "\n",
              "      async function convertToInteractive(key) {\n",
              "        const element = document.querySelector('#df-f9b9ce52-4d38-4454-9e32-f44032345dfe');\n",
              "        const dataTable =\n",
              "          await google.colab.kernel.invokeFunction('convertToInteractive',\n",
              "                                                    [key], {});\n",
              "        if (!dataTable) return;\n",
              "\n",
              "        const docLinkHtml = 'Like what you see? Visit the ' +\n",
              "          '<a target=\"_blank\" href=https://colab.research.google.com/notebooks/data_table.ipynb>data table notebook</a>'\n",
              "          + ' to learn more about interactive tables.';\n",
              "        element.innerHTML = '';\n",
              "        dataTable['output_type'] = 'display_data';\n",
              "        await google.colab.output.renderOutput(dataTable, element);\n",
              "        const docLink = document.createElement('div');\n",
              "        docLink.innerHTML = docLinkHtml;\n",
              "        element.appendChild(docLink);\n",
              "      }\n",
              "    </script>\n",
              "  </div>\n",
              "\n",
              "\n",
              "<div id=\"df-5dc17909-cad3-44bf-b818-d7af6cf86f4d\">\n",
              "  <button class=\"colab-df-quickchart\" onclick=\"quickchart('df-5dc17909-cad3-44bf-b818-d7af6cf86f4d')\"\n",
              "            title=\"Suggest charts\"\n",
              "            style=\"display:none;\">\n",
              "\n",
              "<svg xmlns=\"http://www.w3.org/2000/svg\" height=\"24px\"viewBox=\"0 0 24 24\"\n",
              "     width=\"24px\">\n",
              "    <g>\n",
              "        <path d=\"M19 3H5c-1.1 0-2 .9-2 2v14c0 1.1.9 2 2 2h14c1.1 0 2-.9 2-2V5c0-1.1-.9-2-2-2zM9 17H7v-7h2v7zm4 0h-2V7h2v10zm4 0h-2v-4h2v4z\"/>\n",
              "    </g>\n",
              "</svg>\n",
              "  </button>\n",
              "\n",
              "<style>\n",
              "  .colab-df-quickchart {\n",
              "      --bg-color: #E8F0FE;\n",
              "      --fill-color: #1967D2;\n",
              "      --hover-bg-color: #E2EBFA;\n",
              "      --hover-fill-color: #174EA6;\n",
              "      --disabled-fill-color: #AAA;\n",
              "      --disabled-bg-color: #DDD;\n",
              "  }\n",
              "\n",
              "  [theme=dark] .colab-df-quickchart {\n",
              "      --bg-color: #3B4455;\n",
              "      --fill-color: #D2E3FC;\n",
              "      --hover-bg-color: #434B5C;\n",
              "      --hover-fill-color: #FFFFFF;\n",
              "      --disabled-bg-color: #3B4455;\n",
              "      --disabled-fill-color: #666;\n",
              "  }\n",
              "\n",
              "  .colab-df-quickchart {\n",
              "    background-color: var(--bg-color);\n",
              "    border: none;\n",
              "    border-radius: 50%;\n",
              "    cursor: pointer;\n",
              "    display: none;\n",
              "    fill: var(--fill-color);\n",
              "    height: 32px;\n",
              "    padding: 0;\n",
              "    width: 32px;\n",
              "  }\n",
              "\n",
              "  .colab-df-quickchart:hover {\n",
              "    background-color: var(--hover-bg-color);\n",
              "    box-shadow: 0 1px 2px rgba(60, 64, 67, 0.3), 0 1px 3px 1px rgba(60, 64, 67, 0.15);\n",
              "    fill: var(--button-hover-fill-color);\n",
              "  }\n",
              "\n",
              "  .colab-df-quickchart-complete:disabled,\n",
              "  .colab-df-quickchart-complete:disabled:hover {\n",
              "    background-color: var(--disabled-bg-color);\n",
              "    fill: var(--disabled-fill-color);\n",
              "    box-shadow: none;\n",
              "  }\n",
              "\n",
              "  .colab-df-spinner {\n",
              "    border: 2px solid var(--fill-color);\n",
              "    border-color: transparent;\n",
              "    border-bottom-color: var(--fill-color);\n",
              "    animation:\n",
              "      spin 1s steps(1) infinite;\n",
              "  }\n",
              "\n",
              "  @keyframes spin {\n",
              "    0% {\n",
              "      border-color: transparent;\n",
              "      border-bottom-color: var(--fill-color);\n",
              "      border-left-color: var(--fill-color);\n",
              "    }\n",
              "    20% {\n",
              "      border-color: transparent;\n",
              "      border-left-color: var(--fill-color);\n",
              "      border-top-color: var(--fill-color);\n",
              "    }\n",
              "    30% {\n",
              "      border-color: transparent;\n",
              "      border-left-color: var(--fill-color);\n",
              "      border-top-color: var(--fill-color);\n",
              "      border-right-color: var(--fill-color);\n",
              "    }\n",
              "    40% {\n",
              "      border-color: transparent;\n",
              "      border-right-color: var(--fill-color);\n",
              "      border-top-color: var(--fill-color);\n",
              "    }\n",
              "    60% {\n",
              "      border-color: transparent;\n",
              "      border-right-color: var(--fill-color);\n",
              "    }\n",
              "    80% {\n",
              "      border-color: transparent;\n",
              "      border-right-color: var(--fill-color);\n",
              "      border-bottom-color: var(--fill-color);\n",
              "    }\n",
              "    90% {\n",
              "      border-color: transparent;\n",
              "      border-bottom-color: var(--fill-color);\n",
              "    }\n",
              "  }\n",
              "</style>\n",
              "\n",
              "  <script>\n",
              "    async function quickchart(key) {\n",
              "      const quickchartButtonEl =\n",
              "        document.querySelector('#' + key + ' button');\n",
              "      quickchartButtonEl.disabled = true;  // To prevent multiple clicks.\n",
              "      quickchartButtonEl.classList.add('colab-df-spinner');\n",
              "      try {\n",
              "        const charts = await google.colab.kernel.invokeFunction(\n",
              "            'suggestCharts', [key], {});\n",
              "      } catch (error) {\n",
              "        console.error('Error during call to suggestCharts:', error);\n",
              "      }\n",
              "      quickchartButtonEl.classList.remove('colab-df-spinner');\n",
              "      quickchartButtonEl.classList.add('colab-df-quickchart-complete');\n",
              "    }\n",
              "    (() => {\n",
              "      let quickchartButtonEl =\n",
              "        document.querySelector('#df-5dc17909-cad3-44bf-b818-d7af6cf86f4d button');\n",
              "      quickchartButtonEl.style.display =\n",
              "        google.colab.kernel.accessAllowed ? 'block' : 'none';\n",
              "    })();\n",
              "  </script>\n",
              "</div>\n",
              "\n",
              "    </div>\n",
              "  </div>\n"
            ],
            "text/plain": [
              "         Date    Open    High     Low   Close    Volume   Name\n",
              "0  2006-01-03  211.47  218.05  209.32  217.83  13137450  GOOGL\n",
              "1  2006-01-04  222.17  224.70  220.09  222.84  15292353  GOOGL\n",
              "2  2006-01-05  223.22  226.00  220.97  225.85  10815661  GOOGL\n",
              "3  2006-01-06  228.66  235.49  226.85  233.06  17759521  GOOGL\n",
              "4  2006-01-09  233.44  236.94  230.70  233.68  12795837  GOOGL"
            ]
          },
          "execution_count": 48,
          "metadata": {},
          "output_type": "execute_result"
        }
      ],
      "source": [
        "df.head()"
      ]
    },
    {
      "cell_type": "code",
      "execution_count": 49,
      "metadata": {
        "colab": {
          "base_uri": "https://localhost:8080/",
          "height": 206
        },
        "id": "OMnuyJsk50wB",
        "outputId": "03b4dc83-f82a-499b-cf9e-f61f78142fcb"
      },
      "outputs": [
        {
          "data": {
            "application/vnd.google.colaboratory.intrinsic+json": {
              "repr_error": "0",
              "type": "dataframe"
            },
            "text/html": [
              "\n",
              "  <div id=\"df-c240f0f2-0f0b-411f-b0ed-ac4624c58e41\" class=\"colab-df-container\">\n",
              "    <div>\n",
              "<style scoped>\n",
              "    .dataframe tbody tr th:only-of-type {\n",
              "        vertical-align: middle;\n",
              "    }\n",
              "\n",
              "    .dataframe tbody tr th {\n",
              "        vertical-align: top;\n",
              "    }\n",
              "\n",
              "    .dataframe thead th {\n",
              "        text-align: right;\n",
              "    }\n",
              "</style>\n",
              "<table border=\"1\" class=\"dataframe\">\n",
              "  <thead>\n",
              "    <tr style=\"text-align: right;\">\n",
              "      <th></th>\n",
              "      <th>Date</th>\n",
              "      <th>Open</th>\n",
              "      <th>High</th>\n",
              "      <th>Low</th>\n",
              "      <th>Close</th>\n",
              "      <th>Volume</th>\n",
              "      <th>Name</th>\n",
              "    </tr>\n",
              "  </thead>\n",
              "  <tbody>\n",
              "    <tr>\n",
              "      <th>3014</th>\n",
              "      <td>2017-12-22</td>\n",
              "      <td>1070.00</td>\n",
              "      <td>1071.72</td>\n",
              "      <td>1067.64</td>\n",
              "      <td>1068.86</td>\n",
              "      <td>889446</td>\n",
              "      <td>GOOGL</td>\n",
              "    </tr>\n",
              "    <tr>\n",
              "      <th>3015</th>\n",
              "      <td>2017-12-26</td>\n",
              "      <td>1068.64</td>\n",
              "      <td>1068.86</td>\n",
              "      <td>1058.64</td>\n",
              "      <td>1065.85</td>\n",
              "      <td>918767</td>\n",
              "      <td>GOOGL</td>\n",
              "    </tr>\n",
              "    <tr>\n",
              "      <th>3016</th>\n",
              "      <td>2017-12-27</td>\n",
              "      <td>1066.60</td>\n",
              "      <td>1068.27</td>\n",
              "      <td>1058.38</td>\n",
              "      <td>1060.20</td>\n",
              "      <td>1116203</td>\n",
              "      <td>GOOGL</td>\n",
              "    </tr>\n",
              "    <tr>\n",
              "      <th>3017</th>\n",
              "      <td>2017-12-28</td>\n",
              "      <td>1062.25</td>\n",
              "      <td>1064.84</td>\n",
              "      <td>1053.38</td>\n",
              "      <td>1055.95</td>\n",
              "      <td>994249</td>\n",
              "      <td>GOOGL</td>\n",
              "    </tr>\n",
              "    <tr>\n",
              "      <th>3018</th>\n",
              "      <td>2017-12-29</td>\n",
              "      <td>1055.49</td>\n",
              "      <td>1058.05</td>\n",
              "      <td>1052.70</td>\n",
              "      <td>1053.40</td>\n",
              "      <td>1180340</td>\n",
              "      <td>GOOGL</td>\n",
              "    </tr>\n",
              "  </tbody>\n",
              "</table>\n",
              "</div>\n",
              "    <div class=\"colab-df-buttons\">\n",
              "\n",
              "  <div class=\"colab-df-container\">\n",
              "    <button class=\"colab-df-convert\" onclick=\"convertToInteractive('df-c240f0f2-0f0b-411f-b0ed-ac4624c58e41')\"\n",
              "            title=\"Convert this dataframe to an interactive table.\"\n",
              "            style=\"display:none;\">\n",
              "\n",
              "  <svg xmlns=\"http://www.w3.org/2000/svg\" height=\"24px\" viewBox=\"0 -960 960 960\">\n",
              "    <path d=\"M120-120v-720h720v720H120Zm60-500h600v-160H180v160Zm220 220h160v-160H400v160Zm0 220h160v-160H400v160ZM180-400h160v-160H180v160Zm440 0h160v-160H620v160ZM180-180h160v-160H180v160Zm440 0h160v-160H620v160Z\"/>\n",
              "  </svg>\n",
              "    </button>\n",
              "\n",
              "  <style>\n",
              "    .colab-df-container {\n",
              "      display:flex;\n",
              "      gap: 12px;\n",
              "    }\n",
              "\n",
              "    .colab-df-convert {\n",
              "      background-color: #E8F0FE;\n",
              "      border: none;\n",
              "      border-radius: 50%;\n",
              "      cursor: pointer;\n",
              "      display: none;\n",
              "      fill: #1967D2;\n",
              "      height: 32px;\n",
              "      padding: 0 0 0 0;\n",
              "      width: 32px;\n",
              "    }\n",
              "\n",
              "    .colab-df-convert:hover {\n",
              "      background-color: #E2EBFA;\n",
              "      box-shadow: 0px 1px 2px rgba(60, 64, 67, 0.3), 0px 1px 3px 1px rgba(60, 64, 67, 0.15);\n",
              "      fill: #174EA6;\n",
              "    }\n",
              "\n",
              "    .colab-df-buttons div {\n",
              "      margin-bottom: 4px;\n",
              "    }\n",
              "\n",
              "    [theme=dark] .colab-df-convert {\n",
              "      background-color: #3B4455;\n",
              "      fill: #D2E3FC;\n",
              "    }\n",
              "\n",
              "    [theme=dark] .colab-df-convert:hover {\n",
              "      background-color: #434B5C;\n",
              "      box-shadow: 0px 1px 3px 1px rgba(0, 0, 0, 0.15);\n",
              "      filter: drop-shadow(0px 1px 2px rgba(0, 0, 0, 0.3));\n",
              "      fill: #FFFFFF;\n",
              "    }\n",
              "  </style>\n",
              "\n",
              "    <script>\n",
              "      const buttonEl =\n",
              "        document.querySelector('#df-c240f0f2-0f0b-411f-b0ed-ac4624c58e41 button.colab-df-convert');\n",
              "      buttonEl.style.display =\n",
              "        google.colab.kernel.accessAllowed ? 'block' : 'none';\n",
              "\n",
              "      async function convertToInteractive(key) {\n",
              "        const element = document.querySelector('#df-c240f0f2-0f0b-411f-b0ed-ac4624c58e41');\n",
              "        const dataTable =\n",
              "          await google.colab.kernel.invokeFunction('convertToInteractive',\n",
              "                                                    [key], {});\n",
              "        if (!dataTable) return;\n",
              "\n",
              "        const docLinkHtml = 'Like what you see? Visit the ' +\n",
              "          '<a target=\"_blank\" href=https://colab.research.google.com/notebooks/data_table.ipynb>data table notebook</a>'\n",
              "          + ' to learn more about interactive tables.';\n",
              "        element.innerHTML = '';\n",
              "        dataTable['output_type'] = 'display_data';\n",
              "        await google.colab.output.renderOutput(dataTable, element);\n",
              "        const docLink = document.createElement('div');\n",
              "        docLink.innerHTML = docLinkHtml;\n",
              "        element.appendChild(docLink);\n",
              "      }\n",
              "    </script>\n",
              "  </div>\n",
              "\n",
              "\n",
              "<div id=\"df-e0dcc23b-a15d-4173-80c0-12f5461b86d9\">\n",
              "  <button class=\"colab-df-quickchart\" onclick=\"quickchart('df-e0dcc23b-a15d-4173-80c0-12f5461b86d9')\"\n",
              "            title=\"Suggest charts\"\n",
              "            style=\"display:none;\">\n",
              "\n",
              "<svg xmlns=\"http://www.w3.org/2000/svg\" height=\"24px\"viewBox=\"0 0 24 24\"\n",
              "     width=\"24px\">\n",
              "    <g>\n",
              "        <path d=\"M19 3H5c-1.1 0-2 .9-2 2v14c0 1.1.9 2 2 2h14c1.1 0 2-.9 2-2V5c0-1.1-.9-2-2-2zM9 17H7v-7h2v7zm4 0h-2V7h2v10zm4 0h-2v-4h2v4z\"/>\n",
              "    </g>\n",
              "</svg>\n",
              "  </button>\n",
              "\n",
              "<style>\n",
              "  .colab-df-quickchart {\n",
              "      --bg-color: #E8F0FE;\n",
              "      --fill-color: #1967D2;\n",
              "      --hover-bg-color: #E2EBFA;\n",
              "      --hover-fill-color: #174EA6;\n",
              "      --disabled-fill-color: #AAA;\n",
              "      --disabled-bg-color: #DDD;\n",
              "  }\n",
              "\n",
              "  [theme=dark] .colab-df-quickchart {\n",
              "      --bg-color: #3B4455;\n",
              "      --fill-color: #D2E3FC;\n",
              "      --hover-bg-color: #434B5C;\n",
              "      --hover-fill-color: #FFFFFF;\n",
              "      --disabled-bg-color: #3B4455;\n",
              "      --disabled-fill-color: #666;\n",
              "  }\n",
              "\n",
              "  .colab-df-quickchart {\n",
              "    background-color: var(--bg-color);\n",
              "    border: none;\n",
              "    border-radius: 50%;\n",
              "    cursor: pointer;\n",
              "    display: none;\n",
              "    fill: var(--fill-color);\n",
              "    height: 32px;\n",
              "    padding: 0;\n",
              "    width: 32px;\n",
              "  }\n",
              "\n",
              "  .colab-df-quickchart:hover {\n",
              "    background-color: var(--hover-bg-color);\n",
              "    box-shadow: 0 1px 2px rgba(60, 64, 67, 0.3), 0 1px 3px 1px rgba(60, 64, 67, 0.15);\n",
              "    fill: var(--button-hover-fill-color);\n",
              "  }\n",
              "\n",
              "  .colab-df-quickchart-complete:disabled,\n",
              "  .colab-df-quickchart-complete:disabled:hover {\n",
              "    background-color: var(--disabled-bg-color);\n",
              "    fill: var(--disabled-fill-color);\n",
              "    box-shadow: none;\n",
              "  }\n",
              "\n",
              "  .colab-df-spinner {\n",
              "    border: 2px solid var(--fill-color);\n",
              "    border-color: transparent;\n",
              "    border-bottom-color: var(--fill-color);\n",
              "    animation:\n",
              "      spin 1s steps(1) infinite;\n",
              "  }\n",
              "\n",
              "  @keyframes spin {\n",
              "    0% {\n",
              "      border-color: transparent;\n",
              "      border-bottom-color: var(--fill-color);\n",
              "      border-left-color: var(--fill-color);\n",
              "    }\n",
              "    20% {\n",
              "      border-color: transparent;\n",
              "      border-left-color: var(--fill-color);\n",
              "      border-top-color: var(--fill-color);\n",
              "    }\n",
              "    30% {\n",
              "      border-color: transparent;\n",
              "      border-left-color: var(--fill-color);\n",
              "      border-top-color: var(--fill-color);\n",
              "      border-right-color: var(--fill-color);\n",
              "    }\n",
              "    40% {\n",
              "      border-color: transparent;\n",
              "      border-right-color: var(--fill-color);\n",
              "      border-top-color: var(--fill-color);\n",
              "    }\n",
              "    60% {\n",
              "      border-color: transparent;\n",
              "      border-right-color: var(--fill-color);\n",
              "    }\n",
              "    80% {\n",
              "      border-color: transparent;\n",
              "      border-right-color: var(--fill-color);\n",
              "      border-bottom-color: var(--fill-color);\n",
              "    }\n",
              "    90% {\n",
              "      border-color: transparent;\n",
              "      border-bottom-color: var(--fill-color);\n",
              "    }\n",
              "  }\n",
              "</style>\n",
              "\n",
              "  <script>\n",
              "    async function quickchart(key) {\n",
              "      const quickchartButtonEl =\n",
              "        document.querySelector('#' + key + ' button');\n",
              "      quickchartButtonEl.disabled = true;  // To prevent multiple clicks.\n",
              "      quickchartButtonEl.classList.add('colab-df-spinner');\n",
              "      try {\n",
              "        const charts = await google.colab.kernel.invokeFunction(\n",
              "            'suggestCharts', [key], {});\n",
              "      } catch (error) {\n",
              "        console.error('Error during call to suggestCharts:', error);\n",
              "      }\n",
              "      quickchartButtonEl.classList.remove('colab-df-spinner');\n",
              "      quickchartButtonEl.classList.add('colab-df-quickchart-complete');\n",
              "    }\n",
              "    (() => {\n",
              "      let quickchartButtonEl =\n",
              "        document.querySelector('#df-e0dcc23b-a15d-4173-80c0-12f5461b86d9 button');\n",
              "      quickchartButtonEl.style.display =\n",
              "        google.colab.kernel.accessAllowed ? 'block' : 'none';\n",
              "    })();\n",
              "  </script>\n",
              "</div>\n",
              "\n",
              "    </div>\n",
              "  </div>\n"
            ],
            "text/plain": [
              "            Date     Open     High      Low    Close   Volume   Name\n",
              "3014  2017-12-22  1070.00  1071.72  1067.64  1068.86   889446  GOOGL\n",
              "3015  2017-12-26  1068.64  1068.86  1058.64  1065.85   918767  GOOGL\n",
              "3016  2017-12-27  1066.60  1068.27  1058.38  1060.20  1116203  GOOGL\n",
              "3017  2017-12-28  1062.25  1064.84  1053.38  1055.95   994249  GOOGL\n",
              "3018  2017-12-29  1055.49  1058.05  1052.70  1053.40  1180340  GOOGL"
            ]
          },
          "execution_count": 49,
          "metadata": {},
          "output_type": "execute_result"
        }
      ],
      "source": [
        "df.tail()"
      ]
    },
    {
      "cell_type": "code",
      "execution_count": 50,
      "metadata": {
        "id": "TjePq6kO50wB"
      },
      "outputs": [],
      "source": [
        "df1=df.reset_index()['Close']"
      ]
    },
    {
      "cell_type": "code",
      "execution_count": 51,
      "metadata": {
        "colab": {
          "base_uri": "https://localhost:8080/",
          "height": 397
        },
        "id": "RR7RMXsy50wC",
        "outputId": "64a29e97-0cc7-4e15-f3c4-77b41e301dc2"
      },
      "outputs": [
        {
          "data": {
            "text/html": [
              "<div>\n",
              "<style scoped>\n",
              "    .dataframe tbody tr th:only-of-type {\n",
              "        vertical-align: middle;\n",
              "    }\n",
              "\n",
              "    .dataframe tbody tr th {\n",
              "        vertical-align: top;\n",
              "    }\n",
              "\n",
              "    .dataframe thead th {\n",
              "        text-align: right;\n",
              "    }\n",
              "</style>\n",
              "<table border=\"1\" class=\"dataframe\">\n",
              "  <thead>\n",
              "    <tr style=\"text-align: right;\">\n",
              "      <th></th>\n",
              "      <th>Close</th>\n",
              "    </tr>\n",
              "  </thead>\n",
              "  <tbody>\n",
              "    <tr>\n",
              "      <th>0</th>\n",
              "      <td>217.83</td>\n",
              "    </tr>\n",
              "    <tr>\n",
              "      <th>1</th>\n",
              "      <td>222.84</td>\n",
              "    </tr>\n",
              "    <tr>\n",
              "      <th>2</th>\n",
              "      <td>225.85</td>\n",
              "    </tr>\n",
              "    <tr>\n",
              "      <th>3</th>\n",
              "      <td>233.06</td>\n",
              "    </tr>\n",
              "    <tr>\n",
              "      <th>4</th>\n",
              "      <td>233.68</td>\n",
              "    </tr>\n",
              "    <tr>\n",
              "      <th>5</th>\n",
              "      <td>235.11</td>\n",
              "    </tr>\n",
              "    <tr>\n",
              "      <th>6</th>\n",
              "      <td>236.05</td>\n",
              "    </tr>\n",
              "    <tr>\n",
              "      <th>7</th>\n",
              "      <td>232.05</td>\n",
              "    </tr>\n",
              "    <tr>\n",
              "      <th>8</th>\n",
              "      <td>233.36</td>\n",
              "    </tr>\n",
              "    <tr>\n",
              "      <th>9</th>\n",
              "      <td>233.79</td>\n",
              "    </tr>\n",
              "  </tbody>\n",
              "</table>\n",
              "</div><br><label><b>dtype:</b> float64</label>"
            ],
            "text/plain": [
              "0    217.83\n",
              "1    222.84\n",
              "2    225.85\n",
              "3    233.06\n",
              "4    233.68\n",
              "5    235.11\n",
              "6    236.05\n",
              "7    232.05\n",
              "8    233.36\n",
              "9    233.79\n",
              "Name: Close, dtype: float64"
            ]
          },
          "execution_count": 51,
          "metadata": {},
          "output_type": "execute_result"
        }
      ],
      "source": [
        "df1.head(10)"
      ]
    },
    {
      "cell_type": "code",
      "execution_count": 52,
      "metadata": {
        "colab": {
          "base_uri": "https://localhost:8080/"
        },
        "id": "SC1ursqf6jlg",
        "outputId": "6fd396eb-bf99-4046-c275-c050524c6c79"
      },
      "outputs": [
        {
          "data": {
            "text/plain": [
              "(3019,)"
            ]
          },
          "execution_count": 52,
          "metadata": {},
          "output_type": "execute_result"
        }
      ],
      "source": [
        "df1.shape"
      ]
    },
    {
      "cell_type": "code",
      "execution_count": 116,
      "metadata": {
        "colab": {
          "base_uri": "https://localhost:8080/",
          "height": 487
        },
        "id": "8444e8pK50wC",
        "outputId": "5a23badb-0a11-4c2d-8c58-f8fcfd0be78d"
      },
      "outputs": [
        {
          "data": {
            "image/png": "[encoded data removed]",
            "text/plain": [
              "<Figure size 640x480 with 1 Axes>"
            ]
          },
          "metadata": {},
          "output_type": "display_data"
        }
      ],
      "source": [
        "sns.set_style(\"darkgrid\")\n",
        "plt.plot(df1)\n",
        "plt.title(\"Google Stock Price\",fontsize=18, fontweight='bold')\n",
        "plt.xlabel('Days',fontsize=18)\n",
        "plt.ylabel('Close Price (USD)',fontsize=18)\n",
        "plt.show()"
      ]
    },
    {
      "cell_type": "code",
      "execution_count": 56,
      "metadata": {
        "colab": {
          "base_uri": "https://localhost:8080/",
          "height": 458
        },
        "id": "kkHihCc350wC",
        "outputId": "b695cc90-e493-4d51-bd3a-14c233fec009"
      },
      "outputs": [
        {
          "data": {
            "text/html": [
              "<div>\n",
              "<style scoped>\n",
              "    .dataframe tbody tr th:only-of-type {\n",
              "        vertical-align: middle;\n",
              "    }\n",
              "\n",
              "    .dataframe tbody tr th {\n",
              "        vertical-align: top;\n",
              "    }\n",
              "\n",
              "    .dataframe thead th {\n",
              "        text-align: right;\n",
              "    }\n",
              "</style>\n",
              "<table border=\"1\" class=\"dataframe\">\n",
              "  <thead>\n",
              "    <tr style=\"text-align: right;\">\n",
              "      <th></th>\n",
              "      <th>Close</th>\n",
              "    </tr>\n",
              "  </thead>\n",
              "  <tbody>\n",
              "    <tr>\n",
              "      <th>0</th>\n",
              "      <td>217.83</td>\n",
              "    </tr>\n",
              "    <tr>\n",
              "      <th>1</th>\n",
              "      <td>222.84</td>\n",
              "    </tr>\n",
              "    <tr>\n",
              "      <th>2</th>\n",
              "      <td>225.85</td>\n",
              "    </tr>\n",
              "    <tr>\n",
              "      <th>3</th>\n",
              "      <td>233.06</td>\n",
              "    </tr>\n",
              "    <tr>\n",
              "      <th>4</th>\n",
              "      <td>233.68</td>\n",
              "    </tr>\n",
              "    <tr>\n",
              "      <th>...</th>\n",
              "      <td>...</td>\n",
              "    </tr>\n",
              "    <tr>\n",
              "      <th>3014</th>\n",
              "      <td>1068.86</td>\n",
              "    </tr>\n",
              "    <tr>\n",
              "      <th>3015</th>\n",
              "      <td>1065.85</td>\n",
              "    </tr>\n",
              "    <tr>\n",
              "      <th>3016</th>\n",
              "      <td>1060.20</td>\n",
              "    </tr>\n",
              "    <tr>\n",
              "      <th>3017</th>\n",
              "      <td>1055.95</td>\n",
              "    </tr>\n",
              "    <tr>\n",
              "      <th>3018</th>\n",
              "      <td>1053.40</td>\n",
              "    </tr>\n",
              "  </tbody>\n",
              "</table>\n",
              "<p>3019 rows × 1 columns</p>\n",
              "</div><br><label><b>dtype:</b> float64</label>"
            ],
            "text/plain": [
              "0        217.83\n",
              "1        222.84\n",
              "2        225.85\n",
              "3        233.06\n",
              "4        233.68\n",
              "         ...   \n",
              "3014    1068.86\n",
              "3015    1065.85\n",
              "3016    1060.20\n",
              "3017    1055.95\n",
              "3018    1053.40\n",
              "Name: Close, Length: 3019, dtype: float64"
            ]
          },
          "execution_count": 56,
          "metadata": {},
          "output_type": "execute_result"
        }
      ],
      "source": [
        "df1"
      ]
    },
    {
      "cell_type": "code",
      "execution_count": 57,
      "metadata": {
        "id": "26QA2TjB50wC"
      },
      "outputs": [],
      "source": [
        "from sklearn.preprocessing import MinMaxScaler\n",
        "scaler=MinMaxScaler(feature_range=(0,1))\n",
        "df1=scaler.fit_transform(np.array(df1).reshape(-1,1))"
      ]
    },
    {
      "cell_type": "code",
      "execution_count": 58,
      "metadata": {
        "colab": {
          "base_uri": "https://localhost:8080/"
        },
        "id": "z1olYLFz50wC",
        "outputId": "93d79e78-438d-4940-8f4a-3aebffc42411"
      },
      "outputs": [
        {
          "data": {
            "text/plain": [
              "array([[0.09305195],\n",
              "       [0.09829122],\n",
              "       [0.10143897],\n",
              "       ...,\n",
              "       [0.97397097],\n",
              "       [0.96952648],\n",
              "       [0.96685978]])"
            ]
          },
          "execution_count": 58,
          "metadata": {},
          "output_type": "execute_result"
        }
      ],
      "source": [
        "df1"
      ]
    },
    {
      "cell_type": "code",
      "execution_count": 59,
      "metadata": {
        "id": "JrqM1_-A50wC"
      },
      "outputs": [],
      "source": [
        "training_size=int(len(df1)*0.70)\n",
        "test_size=len(df1)-training_size\n",
        "train_data,test_data=df1[0:training_size,:],df1[training_size:len(df1),:1]"
      ]
    },
    {
      "cell_type": "code",
      "execution_count": 60,
      "metadata": {
        "colab": {
          "base_uri": "https://localhost:8080/"
        },
        "id": "s5XBJkvM50wC",
        "outputId": "dc0c7382-f39b-4b5d-f73a-b38d3d085061"
      },
      "outputs": [
        {
          "data": {
            "text/plain": [
              "(2113, 906)"
            ]
          },
          "execution_count": 60,
          "metadata": {},
          "output_type": "execute_result"
        }
      ],
      "source": [
        "training_size,test_size"
      ]
    },
    {
      "cell_type": "code",
      "execution_count": 61,
      "metadata": {
        "colab": {
          "base_uri": "https://localhost:8080/"
        },
        "collapsed": true,
        "id": "xj4f__ho50wC",
        "outputId": "20d26d74-6e75-45bd-ba76-d8d2bcf989e2"
      },
      "outputs": [
        {
          "data": {
            "text/plain": [
              "array([[0.09305195],\n",
              "       [0.09829122],\n",
              "       [0.10143897],\n",
              "       ...,\n",
              "       [0.45485443],\n",
              "       [0.46643102],\n",
              "       [0.46180875]])"
            ]
          },
          "execution_count": 61,
          "metadata": {},
          "output_type": "execute_result"
        }
      ],
      "source": [
        "train_data"
      ]
    },
    {
      "cell_type": "code",
      "execution_count": 62,
      "metadata": {
        "id": "F6ICSusz50wC"
      },
      "outputs": [],
      "source": [
        "import numpy\n",
        "def create_dataset(dataset, time_step=1):\n",
        "\tdataX, dataY = [], []\n",
        "\tfor i in range(len(dataset)-time_step-1):\n",
        "\t\ta = dataset[i:(i+time_step), 0]   #i=0, 0,1,2,3-----99   100\n",
        "\t\tdataX.append(a)\n",
        "\t\tdataY.append(dataset[i + time_step, 0])\n",
        "\treturn numpy.array(dataX), numpy.array(dataY)"
      ]
    },
    {
      "cell_type": "code",
      "execution_count": 63,
      "metadata": {
        "id": "AzshRdLf50wD"
      },
      "outputs": [],
      "source": [
        "time_step = 100\n",
        "X_train, y_train = create_dataset(train_data, time_step)\n",
        "X_test, ytest = create_dataset(test_data, time_step)"
      ]
    },
    {
      "cell_type": "code",
      "execution_count": 64,
      "metadata": {
        "colab": {
          "base_uri": "https://localhost:8080/"
        },
        "id": "8c4v0b9Q50wD",
        "outputId": "f720f88d-8b37-42cf-cf8f-72fab3f7b78e"
      },
      "outputs": [
        {
          "name": "stdout",
          "output_type": "stream",
          "text": [
            "(2012, 100)\n",
            "(2012,)\n"
          ]
        },
        {
          "data": {
            "text/plain": [
              "(None, None)"
            ]
          },
          "execution_count": 64,
          "metadata": {},
          "output_type": "execute_result"
        }
      ],
      "source": [
        "print(X_train.shape), print(y_train.shape)"
      ]
    },
    {
      "cell_type": "code",
      "execution_count": 65,
      "metadata": {
        "colab": {
          "base_uri": "https://localhost:8080/"
        },
        "id": "n-6SP-Dg50wD",
        "outputId": "faaaad4f-54c1-4b5a-bff5-94ba11c0f441"
      },
      "outputs": [
        {
          "name": "stdout",
          "output_type": "stream",
          "text": [
            "(805, 100)\n",
            "(805,)\n"
          ]
        },
        {
          "data": {
            "text/plain": [
              "(None, None)"
            ]
          },
          "execution_count": 65,
          "metadata": {},
          "output_type": "execute_result"
        }
      ],
      "source": [
        "print(X_test.shape), print(ytest.shape)"
      ]
    },
    {
      "cell_type": "code",
      "execution_count": 66,
      "metadata": {
        "id": "amcCBDqa50wD"
      },
      "outputs": [],
      "source": [
        "X_train =X_train.reshape(X_train.shape[0],X_train.shape[1] , 1)\n",
        "X_test = X_test.reshape(X_test.shape[0],X_test.shape[1] , 1)"
      ]
    },
    {
      "cell_type": "code",
      "execution_count": 69,
      "metadata": {
        "id": "jnosbn-x50wD"
      },
      "outputs": [],
      "source": [
        "from tensorflow.keras.models import Sequential\n",
        "from tensorflow.keras.layers import Dense,Dropout\n",
        "from tensorflow.keras.layers import LSTM"
      ]
    },
    {
      "cell_type": "code",
      "execution_count": 70,
      "metadata": {
        "colab": {
          "base_uri": "https://localhost:8080/"
        },
        "id": "lgu8LXsH50wD",
        "outputId": "a122daaa-db1e-4161-bf8f-4d85b1f355d4"
      },
      "outputs": [
        {
          "name": "stderr",
          "output_type": "stream",
          "text": [
            "/usr/local/lib/python3.10/dist-packages/keras/src/layers/rnn/rnn.py:204: UserWarning: Do not pass an `input_shape`/`input_dim` argument to a layer. When using Sequential models, prefer using an `Input(shape)` object as the first layer in the model instead.\n",
            "  super().__init__(**kwargs)\n"
          ]
        }
      ],
      "source": [
        "model=Sequential()\n",
        "model.add(LSTM(50,return_sequences=True,input_shape=(100,1)))\n",
        "model.add(Dropout(0.2))\n",
        "model.add(LSTM(50,return_sequences=True))\n",
        "model.add(Dropout(0.2))\n",
        "model.add(LSTM(50))\n",
        "model.add(Dense(25))\n",
        "model.add(Dense(1))\n",
        "model.compile(loss='mean_squared_error',optimizer='adam')\n"
      ]
    },
    {
      "cell_type": "code",
      "execution_count": 71,
      "metadata": {
        "colab": {
          "base_uri": "https://localhost:8080/",
          "height": 353
        },
        "id": "BLTzSCRf50wD",
        "outputId": "88783c0c-8f1a-4024-93c6-68c1de69b4a9"
      },
      "outputs": [
        {
          "data": {
            "text/html": [
              "<pre style=\"white-space:pre;overflow-x:auto;line-height:normal;font-family:Menlo,'DejaVu Sans Mono',consolas,'Courier New',monospace\"><span style=\"font-weight: bold\">Model: \"sequential_2\"</span>\n",
              "</pre>\n"
            ],
            "text/plain": [
              "\u001b[1mModel: \"sequential_2\"\u001b[0m\n"
            ]
          },
          "metadata": {},
          "output_type": "display_data"
        },
        {
          "data": {
            "text/html": [
              "<pre style=\"white-space:pre;overflow-x:auto;line-height:normal;font-family:Menlo,'DejaVu Sans Mono',consolas,'Courier New',monospace\">┏━━━━━━━━━━━━━━━━━━━━━━━━━━━━━━━━━━━━━━┳━━━━━━━━━━━━━━━━━━━━━━━━━━━━━┳━━━━━━━━━━━━━━━━━┓\n",
              "┃<span style=\"font-weight: bold\"> Layer (type)                         </span>┃<span style=\"font-weight: bold\"> Output Shape                </span>┃<span style=\"font-weight: bold\">         Param # </span>┃\n",
              "┡━━━━━━━━━━━━━━━━━━━━━━━━━━━━━━━━━━━━━━╇━━━━━━━━━━━━━━━━━━━━━━━━━━━━━╇━━━━━━━━━━━━━━━━━┩\n",
              "│ lstm_4 (<span style=\"color: #0087ff; text-decoration-color: #0087ff\">LSTM</span>)                        │ (<span style=\"color: #00d7ff; text-decoration-color: #00d7ff\">None</span>, <span style=\"color: #00af00; text-decoration-color: #00af00\">100</span>, <span style=\"color: #00af00; text-decoration-color: #00af00\">50</span>)             │          <span style=\"color: #00af00; text-decoration-color: #00af00\">10,400</span> │\n",
              "├──────────────────────────────────────┼─────────────────────────────┼─────────────────┤\n",
              "│ dropout (<span style=\"color: #0087ff; text-decoration-color: #0087ff\">Dropout</span>)                    │ (<span style=\"color: #00d7ff; text-decoration-color: #00d7ff\">None</span>, <span style=\"color: #00af00; text-decoration-color: #00af00\">100</span>, <span style=\"color: #00af00; text-decoration-color: #00af00\">50</span>)             │               <span style=\"color: #00af00; text-decoration-color: #00af00\">0</span> │\n",
              "├──────────────────────────────────────┼─────────────────────────────┼─────────────────┤\n",
              "│ lstm_5 (<span style=\"color: #0087ff; text-decoration-color: #0087ff\">LSTM</span>)                        │ (<span style=\"color: #00d7ff; text-decoration-color: #00d7ff\">None</span>, <span style=\"color: #00af00; text-decoration-color: #00af00\">100</span>, <span style=\"color: #00af00; text-decoration-color: #00af00\">50</span>)             │          <span style=\"color: #00af00; text-decoration-color: #00af00\">20,200</span> │\n",
              "├──────────────────────────────────────┼─────────────────────────────┼─────────────────┤\n",
              "│ dropout_1 (<span style=\"color: #0087ff; text-decoration-color: #0087ff\">Dropout</span>)                  │ (<span style=\"color: #00d7ff; text-decoration-color: #00d7ff\">None</span>, <span style=\"color: #00af00; text-decoration-color: #00af00\">100</span>, <span style=\"color: #00af00; text-decoration-color: #00af00\">50</span>)             │               <span style=\"color: #00af00; text-decoration-color: #00af00\">0</span> │\n",
              "├──────────────────────────────────────┼─────────────────────────────┼─────────────────┤\n",
              "│ lstm_6 (<span style=\"color: #0087ff; text-decoration-color: #0087ff\">LSTM</span>)                        │ (<span style=\"color: #00d7ff; text-decoration-color: #00d7ff\">None</span>, <span style=\"color: #00af00; text-decoration-color: #00af00\">50</span>)                  │          <span style=\"color: #00af00; text-decoration-color: #00af00\">20,200</span> │\n",
              "├──────────────────────────────────────┼─────────────────────────────┼─────────────────┤\n",
              "│ dense_1 (<span style=\"color: #0087ff; text-decoration-color: #0087ff\">Dense</span>)                      │ (<span style=\"color: #00d7ff; text-decoration-color: #00d7ff\">None</span>, <span style=\"color: #00af00; text-decoration-color: #00af00\">25</span>)                  │           <span style=\"color: #00af00; text-decoration-color: #00af00\">1,275</span> │\n",
              "├──────────────────────────────────────┼─────────────────────────────┼─────────────────┤\n",
              "│ dense_2 (<span style=\"color: #0087ff; text-decoration-color: #0087ff\">Dense</span>)                      │ (<span style=\"color: #00d7ff; text-decoration-color: #00d7ff\">None</span>, <span style=\"color: #00af00; text-decoration-color: #00af00\">1</span>)                   │              <span style=\"color: #00af00; text-decoration-color: #00af00\">26</span> │\n",
              "└──────────────────────────────────────┴─────────────────────────────┴─────────────────┘\n",
              "</pre>\n"
            ],
            "text/plain": [
              "┏━━━━━━━━━━━━━━━━━━━━━━━━━━━━━━━━━━━━━━┳━━━━━━━━━━━━━━━━━━━━━━━━━━━━━┳━━━━━━━━━━━━━━━━━┓\n",
              "┃\u001b[1m \u001b[0m\u001b[1mLayer (type)                        \u001b[0m\u001b[1m \u001b[0m┃\u001b[1m \u001b[0m\u001b[1mOutput Shape               \u001b[0m\u001b[1m \u001b[0m┃\u001b[1m \u001b[0m\u001b[1m        Param #\u001b[0m\u001b[1m \u001b[0m┃\n",
              "┡━━━━━━━━━━━━━━━━━━━━━━━━━━━━━━━━━━━━━━╇━━━━━━━━━━━━━━━━━━━━━━━━━━━━━╇━━━━━━━━━━━━━━━━━┩\n",
              "│ lstm_4 (\u001b[38;5;33mLSTM\u001b[0m)                        │ (\u001b[38;5;45mNone\u001b[0m, \u001b[38;5;34m100\u001b[0m, \u001b[38;5;34m50\u001b[0m)             │          \u001b[38;5;34m10,400\u001b[0m │\n",
              "├──────────────────────────────────────┼─────────────────────────────┼─────────────────┤\n",
              "│ dropout (\u001b[38;5;33mDropout\u001b[0m)                    │ (\u001b[38;5;45mNone\u001b[0m, \u001b[38;5;34m100\u001b[0m, \u001b[38;5;34m50\u001b[0m)             │               \u001b[38;5;34m0\u001b[0m │\n",
              "├──────────────────────────────────────┼─────────────────────────────┼─────────────────┤\n",
              "│ lstm_5 (\u001b[38;5;33mLSTM\u001b[0m)                        │ (\u001b[38;5;45mNone\u001b[0m, \u001b[38;5;34m100\u001b[0m, \u001b[38;5;34m50\u001b[0m)             │          \u001b[38;5;34m20,200\u001b[0m │\n",
              "├──────────────────────────────────────┼─────────────────────────────┼─────────────────┤\n",
              "│ dropout_1 (\u001b[38;5;33mDropout\u001b[0m)                  │ (\u001b[38;5;45mNone\u001b[0m, \u001b[38;5;34m100\u001b[0m, \u001b[38;5;34m50\u001b[0m)             │               \u001b[38;5;34m0\u001b[0m │\n",
              "├──────────────────────────────────────┼─────────────────────────────┼─────────────────┤\n",
              "│ lstm_6 (\u001b[38;5;33mLSTM\u001b[0m)                        │ (\u001b[38;5;45mNone\u001b[0m, \u001b[38;5;34m50\u001b[0m)                  │          \u001b[38;5;34m20,200\u001b[0m │\n",
              "├──────────────────────────────────────┼─────────────────────────────┼─────────────────┤\n",
              "│ dense_1 (\u001b[38;5;33mDense\u001b[0m)                      │ (\u001b[38;5;45mNone\u001b[0m, \u001b[38;5;34m25\u001b[0m)                  │           \u001b[38;5;34m1,275\u001b[0m │\n",
              "├──────────────────────────────────────┼─────────────────────────────┼─────────────────┤\n",
              "│ dense_2 (\u001b[38;5;33mDense\u001b[0m)                      │ (\u001b[38;5;45mNone\u001b[0m, \u001b[38;5;34m1\u001b[0m)                   │              \u001b[38;5;34m26\u001b[0m │\n",
              "└──────────────────────────────────────┴─────────────────────────────┴─────────────────┘\n"
            ]
          },
          "metadata": {},
          "output_type": "display_data"
        },
        {
          "data": {
            "text/html": [
              "<pre style=\"white-space:pre;overflow-x:auto;line-height:normal;font-family:Menlo,'DejaVu Sans Mono',consolas,'Courier New',monospace\"><span style=\"font-weight: bold\"> Total params: </span><span style=\"color: #00af00; text-decoration-color: #00af00\">52,101</span> (203.52 KB)\n",
              "</pre>\n"
            ],
            "text/plain": [
              "\u001b[1m Total params: \u001b[0m\u001b[38;5;34m52,101\u001b[0m (203.52 KB)\n"
            ]
          },
          "metadata": {},
          "output_type": "display_data"
        },
        {
          "data": {
            "text/html": [
              "<pre style=\"white-space:pre;overflow-x:auto;line-height:normal;font-family:Menlo,'DejaVu Sans Mono',consolas,'Courier New',monospace\"><span style=\"font-weight: bold\"> Trainable params: </span><span style=\"color: #00af00; text-decoration-color: #00af00\">52,101</span> (203.52 KB)\n",
              "</pre>\n"
            ],
            "text/plain": [
              "\u001b[1m Trainable params: \u001b[0m\u001b[38;5;34m52,101\u001b[0m (203.52 KB)\n"
            ]
          },
          "metadata": {},
          "output_type": "display_data"
        },
        {
          "data": {
            "text/html": [
              "<pre style=\"white-space:pre;overflow-x:auto;line-height:normal;font-family:Menlo,'DejaVu Sans Mono',consolas,'Courier New',monospace\"><span style=\"font-weight: bold\"> Non-trainable params: </span><span style=\"color: #00af00; text-decoration-color: #00af00\">0</span> (0.00 B)\n",
              "</pre>\n"
            ],
            "text/plain": [
              "\u001b[1m Non-trainable params: \u001b[0m\u001b[38;5;34m0\u001b[0m (0.00 B)\n"
            ]
          },
          "metadata": {},
          "output_type": "display_data"
        }
      ],
      "source": [
        "model.summary()"
      ]
    },
    {
      "cell_type": "code",
      "execution_count": 72,
      "metadata": {
        "colab": {
          "base_uri": "https://localhost:8080/"
        },
        "id": "d2hxfx6m50wD",
        "outputId": "83819132-1c35-4316-967d-98a16fabcd25"
      },
      "outputs": [
        {
          "name": "stdout",
          "output_type": "stream",
          "text": [
            "Epoch 1/100\n",
            "\u001b[1m63/63\u001b[0m \u001b[32m━━━━━━━━━━━━━━━━━━━━\u001b[0m\u001b[37m\u001b[0m \u001b[1m16s\u001b[0m 158ms/step - loss: 0.0068 - val_loss: 8.0581e-04\n",
            "Epoch 2/100\n",
            "\u001b[1m63/63\u001b[0m \u001b[32m━━━━━━━━━━━━━━━━━━━━\u001b[0m\u001b[37m\u001b[0m \u001b[1m9s\u001b[0m 139ms/step - loss: 3.6082e-04 - val_loss: 9.7385e-04\n",
            "Epoch 3/100\n",
            "\u001b[1m63/63\u001b[0m \u001b[32m━━━━━━━━━━━━━━━━━━━━\u001b[0m\u001b[37m\u001b[0m \u001b[1m12s\u001b[0m 164ms/step - loss: 3.3723e-04 - val_loss: 7.6004e-04\n",
            "Epoch 4/100\n",
            "\u001b[1m63/63\u001b[0m \u001b[32m━━━━━━━━━━━━━━━━━━━━\u001b[0m\u001b[37m\u001b[0m \u001b[1m20s\u001b[0m 162ms/step - loss: 3.4292e-04 - val_loss: 0.0010\n",
            "Epoch 5/100\n",
            "\u001b[1m63/63\u001b[0m \u001b[32m━━━━━━━━━━━━━━━━━━━━\u001b[0m\u001b[37m\u001b[0m \u001b[1m9s\u001b[0m 137ms/step - loss: 2.8786e-04 - val_loss: 7.5407e-04\n",
            "Epoch 6/100\n",
            "\u001b[1m63/63\u001b[0m \u001b[32m━━━━━━━━━━━━━━━━━━━━\u001b[0m\u001b[37m\u001b[0m \u001b[1m11s\u001b[0m 151ms/step - loss: 2.6755e-04 - val_loss: 0.0014\n",
            "Epoch 7/100\n",
            "\u001b[1m63/63\u001b[0m \u001b[32m━━━━━━━━━━━━━━━━━━━━\u001b[0m\u001b[37m\u001b[0m \u001b[1m12s\u001b[0m 180ms/step - loss: 2.5420e-04 - val_loss: 0.0012\n",
            "Epoch 8/100\n",
            "\u001b[1m63/63\u001b[0m \u001b[32m━━━━━━━━━━━━━━━━━━━━\u001b[0m\u001b[37m\u001b[0m \u001b[1m19s\u001b[0m 155ms/step - loss: 2.6315e-04 - val_loss: 0.0012\n",
            "Epoch 9/100\n",
            "\u001b[1m63/63\u001b[0m \u001b[32m━━━━━━━━━━━━━━━━━━━━\u001b[0m\u001b[37m\u001b[0m \u001b[1m9s\u001b[0m 138ms/step - loss: 2.3934e-04 - val_loss: 7.3183e-04\n",
            "Epoch 10/100\n",
            "\u001b[1m63/63\u001b[0m \u001b[32m━━━━━━━━━━━━━━━━━━━━\u001b[0m\u001b[37m\u001b[0m \u001b[1m10s\u001b[0m 165ms/step - loss: 2.0984e-04 - val_loss: 7.9467e-04\n",
            "Epoch 11/100\n",
            "\u001b[1m63/63\u001b[0m \u001b[32m━━━━━━━━━━━━━━━━━━━━\u001b[0m\u001b[37m\u001b[0m \u001b[1m10s\u001b[0m 167ms/step - loss: 2.0092e-04 - val_loss: 7.9115e-04\n",
            "Epoch 12/100\n",
            "\u001b[1m63/63\u001b[0m \u001b[32m━━━━━━━━━━━━━━━━━━━━\u001b[0m\u001b[37m\u001b[0m \u001b[1m19s\u001b[0m 147ms/step - loss: 2.1876e-04 - val_loss: 6.9063e-04\n",
            "Epoch 13/100\n",
            "\u001b[1m63/63\u001b[0m \u001b[32m━━━━━━━━━━━━━━━━━━━━\u001b[0m\u001b[37m\u001b[0m \u001b[1m10s\u001b[0m 166ms/step - loss: 2.2180e-04 - val_loss: 0.0018\n",
            "Epoch 14/100\n",
            "\u001b[1m63/63\u001b[0m \u001b[32m━━━━━━━━━━━━━━━━━━━━\u001b[0m\u001b[37m\u001b[0m \u001b[1m19s\u001b[0m 145ms/step - loss: 1.9141e-04 - val_loss: 8.8442e-04\n",
            "Epoch 15/100\n",
            "\u001b[1m63/63\u001b[0m \u001b[32m━━━━━━━━━━━━━━━━━━━━\u001b[0m\u001b[37m\u001b[0m \u001b[1m10s\u001b[0m 151ms/step - loss: 1.8410e-04 - val_loss: 9.3731e-04\n",
            "Epoch 16/100\n",
            "\u001b[1m63/63\u001b[0m \u001b[32m━━━━━━━━━━━━━━━━━━━━\u001b[0m\u001b[37m\u001b[0m \u001b[1m11s\u001b[0m 162ms/step - loss: 1.5603e-04 - val_loss: 0.0014\n",
            "Epoch 17/100\n",
            "\u001b[1m63/63\u001b[0m \u001b[32m━━━━━━━━━━━━━━━━━━━━\u001b[0m\u001b[37m\u001b[0m \u001b[1m10s\u001b[0m 163ms/step - loss: 1.7490e-04 - val_loss: 4.6566e-04\n",
            "Epoch 18/100\n",
            "\u001b[1m63/63\u001b[0m \u001b[32m━━━━━━━━━━━━━━━━━━━━\u001b[0m\u001b[37m\u001b[0m \u001b[1m20s\u001b[0m 150ms/step - loss: 1.7167e-04 - val_loss: 5.1926e-04\n",
            "Epoch 19/100\n",
            "\u001b[1m63/63\u001b[0m \u001b[32m━━━━━━━━━━━━━━━━━━━━\u001b[0m\u001b[37m\u001b[0m \u001b[1m11s\u001b[0m 162ms/step - loss: 1.7817e-04 - val_loss: 0.0021\n",
            "Epoch 20/100\n",
            "\u001b[1m63/63\u001b[0m \u001b[32m━━━━━━━━━━━━━━━━━━━━\u001b[0m\u001b[37m\u001b[0m \u001b[1m10s\u001b[0m 164ms/step - loss: 1.5682e-04 - val_loss: 7.8462e-04\n",
            "Epoch 21/100\n",
            "\u001b[1m63/63\u001b[0m \u001b[32m━━━━━━━━━━━━━━━━━━━━\u001b[0m\u001b[37m\u001b[0m \u001b[1m9s\u001b[0m 137ms/step - loss: 1.6379e-04 - val_loss: 0.0011\n",
            "Epoch 22/100\n",
            "\u001b[1m63/63\u001b[0m \u001b[32m━━━━━━━━━━━━━━━━━━━━\u001b[0m\u001b[37m\u001b[0m \u001b[1m11s\u001b[0m 143ms/step - loss: 1.5003e-04 - val_loss: 4.9817e-04\n",
            "Epoch 23/100\n",
            "\u001b[1m63/63\u001b[0m \u001b[32m━━━━━━━━━━━━━━━━━━━━\u001b[0m\u001b[37m\u001b[0m \u001b[1m10s\u001b[0m 166ms/step - loss: 1.3822e-04 - val_loss: 4.4881e-04\n",
            "Epoch 24/100\n",
            "\u001b[1m63/63\u001b[0m \u001b[32m━━━━━━━━━━━━━━━━━━━━\u001b[0m\u001b[37m\u001b[0m \u001b[1m19s\u001b[0m 145ms/step - loss: 1.4723e-04 - val_loss: 5.2210e-04\n",
            "Epoch 25/100\n",
            "\u001b[1m63/63\u001b[0m \u001b[32m━━━━━━━━━━━━━━━━━━━━\u001b[0m\u001b[37m\u001b[0m \u001b[1m10s\u001b[0m 136ms/step - loss: 1.4825e-04 - val_loss: 0.0013\n",
            "Epoch 26/100\n",
            "\u001b[1m63/63\u001b[0m \u001b[32m━━━━━━━━━━━━━━━━━━━━\u001b[0m\u001b[37m\u001b[0m \u001b[1m10s\u001b[0m 163ms/step - loss: 1.3688e-04 - val_loss: 3.7494e-04\n",
            "Epoch 27/100\n",
            "\u001b[1m63/63\u001b[0m \u001b[32m━━━━━━━━━━━━━━━━━━━━\u001b[0m\u001b[37m\u001b[0m \u001b[1m21s\u001b[0m 164ms/step - loss: 1.3878e-04 - val_loss: 0.0011\n",
            "Epoch 28/100\n",
            "\u001b[1m63/63\u001b[0m \u001b[32m━━━━━━━━━━━━━━━━━━━━\u001b[0m\u001b[37m\u001b[0m \u001b[1m20s\u001b[0m 158ms/step - loss: 1.2086e-04 - val_loss: 3.5501e-04\n",
            "Epoch 29/100\n",
            "\u001b[1m63/63\u001b[0m \u001b[32m━━━━━━━━━━━━━━━━━━━━\u001b[0m\u001b[37m\u001b[0m \u001b[1m10s\u001b[0m 164ms/step - loss: 1.2659e-04 - val_loss: 3.0458e-04\n",
            "Epoch 30/100\n",
            "\u001b[1m63/63\u001b[0m \u001b[32m━━━━━━━━━━━━━━━━━━━━\u001b[0m\u001b[37m\u001b[0m \u001b[1m10s\u001b[0m 160ms/step - loss: 1.2845e-04 - val_loss: 3.8041e-04\n",
            "Epoch 31/100\n",
            "\u001b[1m63/63\u001b[0m \u001b[32m━━━━━━━━━━━━━━━━━━━━\u001b[0m\u001b[37m\u001b[0m \u001b[1m9s\u001b[0m 138ms/step - loss: 1.2208e-04 - val_loss: 4.0711e-04\n",
            "Epoch 32/100\n",
            "\u001b[1m63/63\u001b[0m \u001b[32m━━━━━━━━━━━━━━━━━━━━\u001b[0m\u001b[37m\u001b[0m \u001b[1m12s\u001b[0m 161ms/step - loss: 1.3581e-04 - val_loss: 4.4471e-04\n",
            "Epoch 33/100\n",
            "\u001b[1m63/63\u001b[0m \u001b[32m━━━━━━━━━━━━━━━━━━━━\u001b[0m\u001b[37m\u001b[0m \u001b[1m10s\u001b[0m 163ms/step - loss: 1.3259e-04 - val_loss: 0.0011\n",
            "Epoch 34/100\n",
            "\u001b[1m63/63\u001b[0m \u001b[32m━━━━━━━━━━━━━━━━━━━━\u001b[0m\u001b[37m\u001b[0m \u001b[1m19s\u001b[0m 141ms/step - loss: 1.2920e-04 - val_loss: 0.0015\n",
            "Epoch 35/100\n",
            "\u001b[1m63/63\u001b[0m \u001b[32m━━━━━━━━━━━━━━━━━━━━\u001b[0m\u001b[37m\u001b[0m \u001b[1m10s\u001b[0m 161ms/step - loss: 1.3558e-04 - val_loss: 3.0788e-04\n",
            "Epoch 36/100\n",
            "\u001b[1m63/63\u001b[0m \u001b[32m━━━━━━━━━━━━━━━━━━━━\u001b[0m\u001b[37m\u001b[0m \u001b[1m10s\u001b[0m 166ms/step - loss: 1.1987e-04 - val_loss: 8.3711e-04\n",
            "Epoch 37/100\n",
            "\u001b[1m63/63\u001b[0m \u001b[32m━━━━━━━━━━━━━━━━━━━━\u001b[0m\u001b[37m\u001b[0m \u001b[1m19s\u001b[0m 137ms/step - loss: 1.0539e-04 - val_loss: 9.2530e-04\n",
            "Epoch 38/100\n",
            "\u001b[1m63/63\u001b[0m \u001b[32m━━━━━━━━━━━━━━━━━━━━\u001b[0m\u001b[37m\u001b[0m \u001b[1m11s\u001b[0m 145ms/step - loss: 9.9162e-05 - val_loss: 2.8972e-04\n",
            "Epoch 39/100\n",
            "\u001b[1m63/63\u001b[0m \u001b[32m━━━━━━━━━━━━━━━━━━━━\u001b[0m\u001b[37m\u001b[0m \u001b[1m11s\u001b[0m 162ms/step - loss: 1.0938e-04 - val_loss: 2.6303e-04\n",
            "Epoch 40/100\n",
            "\u001b[1m63/63\u001b[0m \u001b[32m━━━━━━━━━━━━━━━━━━━━\u001b[0m\u001b[37m\u001b[0m \u001b[1m10s\u001b[0m 165ms/step - loss: 1.0318e-04 - val_loss: 4.8483e-04\n",
            "Epoch 41/100\n",
            "\u001b[1m63/63\u001b[0m \u001b[32m━━━━━━━━━━━━━━━━━━━━\u001b[0m\u001b[37m\u001b[0m \u001b[1m9s\u001b[0m 141ms/step - loss: 1.0420e-04 - val_loss: 6.1029e-04\n",
            "Epoch 42/100\n",
            "\u001b[1m63/63\u001b[0m \u001b[32m━━━━━━━━━━━━━━━━━━━━\u001b[0m\u001b[37m\u001b[0m \u001b[1m10s\u001b[0m 139ms/step - loss: 1.0699e-04 - val_loss: 0.0013\n",
            "Epoch 43/100\n",
            "\u001b[1m63/63\u001b[0m \u001b[32m━━━━━━━━━━━━━━━━━━━━\u001b[0m\u001b[37m\u001b[0m \u001b[1m12s\u001b[0m 162ms/step - loss: 1.0052e-04 - val_loss: 6.8718e-04\n",
            "Epoch 44/100\n",
            "\u001b[1m63/63\u001b[0m \u001b[32m━━━━━━━━━━━━━━━━━━━━\u001b[0m\u001b[37m\u001b[0m \u001b[1m10s\u001b[0m 165ms/step - loss: 1.1831e-04 - val_loss: 2.6891e-04\n",
            "Epoch 45/100\n",
            "\u001b[1m63/63\u001b[0m \u001b[32m━━━━━━━━━━━━━━━━━━━━\u001b[0m\u001b[37m\u001b[0m \u001b[1m19s\u001b[0m 137ms/step - loss: 1.2737e-04 - val_loss: 6.1669e-04\n",
            "Epoch 46/100\n",
            "\u001b[1m63/63\u001b[0m \u001b[32m━━━━━━━━━━━━━━━━━━━━\u001b[0m\u001b[37m\u001b[0m \u001b[1m11s\u001b[0m 149ms/step - loss: 9.3761e-05 - val_loss: 8.3884e-04\n",
            "Epoch 47/100\n",
            "\u001b[1m63/63\u001b[0m \u001b[32m━━━━━━━━━━━━━━━━━━━━\u001b[0m\u001b[37m\u001b[0m \u001b[1m10s\u001b[0m 164ms/step - loss: 9.6544e-05 - val_loss: 3.0167e-04\n",
            "Epoch 48/100\n",
            "\u001b[1m63/63\u001b[0m \u001b[32m━━━━━━━━━━━━━━━━━━━━\u001b[0m\u001b[37m\u001b[0m \u001b[1m21s\u001b[0m 167ms/step - loss: 1.2114e-04 - val_loss: 0.0020\n",
            "Epoch 49/100\n",
            "\u001b[1m63/63\u001b[0m \u001b[32m━━━━━━━━━━━━━━━━━━━━\u001b[0m\u001b[37m\u001b[0m \u001b[1m9s\u001b[0m 138ms/step - loss: 1.0975e-04 - val_loss: 0.0011\n",
            "Epoch 50/100\n",
            "\u001b[1m63/63\u001b[0m \u001b[32m━━━━━━━━━━━━━━━━━━━━\u001b[0m\u001b[37m\u001b[0m \u001b[1m10s\u001b[0m 165ms/step - loss: 1.0026e-04 - val_loss: 4.1176e-04\n",
            "Epoch 51/100\n",
            "\u001b[1m63/63\u001b[0m \u001b[32m━━━━━━━━━━━━━━━━━━━━\u001b[0m\u001b[37m\u001b[0m \u001b[1m20s\u001b[0m 163ms/step - loss: 9.2410e-05 - val_loss: 2.7674e-04\n",
            "Epoch 52/100\n",
            "\u001b[1m63/63\u001b[0m \u001b[32m━━━━━━━━━━━━━━━━━━━━\u001b[0m\u001b[37m\u001b[0m \u001b[1m21s\u001b[0m 163ms/step - loss: 1.0344e-04 - val_loss: 3.7752e-04\n",
            "Epoch 53/100\n",
            "\u001b[1m63/63\u001b[0m \u001b[32m━━━━━━━━━━━━━━━━━━━━\u001b[0m\u001b[37m\u001b[0m \u001b[1m21s\u001b[0m 165ms/step - loss: 9.0716e-05 - val_loss: 0.0013\n",
            "Epoch 54/100\n",
            "\u001b[1m63/63\u001b[0m \u001b[32m━━━━━━━━━━━━━━━━━━━━\u001b[0m\u001b[37m\u001b[0m \u001b[1m20s\u001b[0m 149ms/step - loss: 1.0002e-04 - val_loss: 4.0753e-04\n",
            "Epoch 55/100\n",
            "\u001b[1m63/63\u001b[0m \u001b[32m━━━━━━━━━━━━━━━━━━━━\u001b[0m\u001b[37m\u001b[0m \u001b[1m11s\u001b[0m 166ms/step - loss: 9.0540e-05 - val_loss: 7.5903e-04\n",
            "Epoch 56/100\n",
            "\u001b[1m63/63\u001b[0m \u001b[32m━━━━━━━━━━━━━━━━━━━━\u001b[0m\u001b[37m\u001b[0m \u001b[1m10s\u001b[0m 166ms/step - loss: 1.1070e-04 - val_loss: 0.0042\n",
            "Epoch 57/100\n",
            "\u001b[1m63/63\u001b[0m \u001b[32m━━━━━━━━━━━━━━━━━━━━\u001b[0m\u001b[37m\u001b[0m \u001b[1m20s\u001b[0m 150ms/step - loss: 1.0537e-04 - val_loss: 9.6989e-04\n",
            "Epoch 58/100\n",
            "\u001b[1m63/63\u001b[0m \u001b[32m━━━━━━━━━━━━━━━━━━━━\u001b[0m\u001b[37m\u001b[0m \u001b[1m11s\u001b[0m 165ms/step - loss: 1.0859e-04 - val_loss: 4.2272e-04\n",
            "Epoch 59/100\n",
            "\u001b[1m63/63\u001b[0m \u001b[32m━━━━━━━━━━━━━━━━━━━━\u001b[0m\u001b[37m\u001b[0m \u001b[1m20s\u001b[0m 156ms/step - loss: 9.0910e-05 - val_loss: 0.0012\n",
            "Epoch 60/100\n",
            "\u001b[1m63/63\u001b[0m \u001b[32m━━━━━━━━━━━━━━━━━━━━\u001b[0m\u001b[37m\u001b[0m \u001b[1m9s\u001b[0m 139ms/step - loss: 8.2595e-05 - val_loss: 7.7230e-04\n",
            "Epoch 61/100\n",
            "\u001b[1m63/63\u001b[0m \u001b[32m━━━━━━━━━━━━━━━━━━━━\u001b[0m\u001b[37m\u001b[0m \u001b[1m12s\u001b[0m 160ms/step - loss: 8.2075e-05 - val_loss: 0.0013\n",
            "Epoch 62/100\n",
            "\u001b[1m63/63\u001b[0m \u001b[32m━━━━━━━━━━━━━━━━━━━━\u001b[0m\u001b[37m\u001b[0m \u001b[1m10s\u001b[0m 165ms/step - loss: 1.0323e-04 - val_loss: 0.0014\n",
            "Epoch 63/100\n",
            "\u001b[1m63/63\u001b[0m \u001b[32m━━━━━━━━━━━━━━━━━━━━\u001b[0m\u001b[37m\u001b[0m \u001b[1m19s\u001b[0m 142ms/step - loss: 9.7543e-05 - val_loss: 0.0013\n",
            "Epoch 64/100\n",
            "\u001b[1m63/63\u001b[0m \u001b[32m━━━━━━━━━━━━━━━━━━━━\u001b[0m\u001b[37m\u001b[0m \u001b[1m10s\u001b[0m 139ms/step - loss: 9.4567e-05 - val_loss: 5.7625e-04\n",
            "Epoch 65/100\n",
            "\u001b[1m63/63\u001b[0m \u001b[32m━━━━━━━━━━━━━━━━━━━━\u001b[0m\u001b[37m\u001b[0m \u001b[1m12s\u001b[0m 165ms/step - loss: 9.8986e-05 - val_loss: 0.0017\n",
            "Epoch 66/100\n",
            "\u001b[1m63/63\u001b[0m \u001b[32m━━━━━━━━━━━━━━━━━━━━\u001b[0m\u001b[37m\u001b[0m \u001b[1m21s\u001b[0m 166ms/step - loss: 7.5743e-05 - val_loss: 4.4276e-04\n",
            "Epoch 67/100\n",
            "\u001b[1m63/63\u001b[0m \u001b[32m━━━━━━━━━━━━━━━━━━━━\u001b[0m\u001b[37m\u001b[0m \u001b[1m9s\u001b[0m 140ms/step - loss: 1.0271e-04 - val_loss: 7.3906e-04\n",
            "Epoch 68/100\n",
            "\u001b[1m63/63\u001b[0m \u001b[32m━━━━━━━━━━━━━━━━━━━━\u001b[0m\u001b[37m\u001b[0m \u001b[1m11s\u001b[0m 169ms/step - loss: 7.9909e-05 - val_loss: 4.3458e-04\n",
            "Epoch 69/100\n",
            "\u001b[1m63/63\u001b[0m \u001b[32m━━━━━━━━━━━━━━━━━━━━\u001b[0m\u001b[37m\u001b[0m \u001b[1m20s\u001b[0m 165ms/step - loss: 7.8359e-05 - val_loss: 7.2976e-04\n",
            "Epoch 70/100\n",
            "\u001b[1m63/63\u001b[0m \u001b[32m━━━━━━━━━━━━━━━━━━━━\u001b[0m\u001b[37m\u001b[0m \u001b[1m9s\u001b[0m 140ms/step - loss: 9.4398e-05 - val_loss: 0.0011\n",
            "Epoch 71/100\n",
            "\u001b[1m63/63\u001b[0m \u001b[32m━━━━━━━━━━━━━━━━━━━━\u001b[0m\u001b[37m\u001b[0m \u001b[1m11s\u001b[0m 168ms/step - loss: 7.7215e-05 - val_loss: 3.0300e-04\n",
            "Epoch 72/100\n",
            "\u001b[1m63/63\u001b[0m \u001b[32m━━━━━━━━━━━━━━━━━━━━\u001b[0m\u001b[37m\u001b[0m \u001b[1m20s\u001b[0m 162ms/step - loss: 7.3094e-05 - val_loss: 4.7053e-04\n",
            "Epoch 73/100\n",
            "\u001b[1m63/63\u001b[0m \u001b[32m━━━━━━━━━━━━━━━━━━━━\u001b[0m\u001b[37m\u001b[0m \u001b[1m9s\u001b[0m 138ms/step - loss: 9.1381e-05 - val_loss: 0.0014\n",
            "Epoch 74/100\n",
            "\u001b[1m63/63\u001b[0m \u001b[32m━━━━━━━━━━━━━━━━━━━━\u001b[0m\u001b[37m\u001b[0m \u001b[1m11s\u001b[0m 150ms/step - loss: 7.2195e-05 - val_loss: 8.3001e-04\n",
            "Epoch 75/100\n",
            "\u001b[1m63/63\u001b[0m \u001b[32m━━━━━━━━━━━━━━━━━━━━\u001b[0m\u001b[37m\u001b[0m \u001b[1m11s\u001b[0m 166ms/step - loss: 6.3063e-05 - val_loss: 0.0028\n",
            "Epoch 76/100\n",
            "\u001b[1m63/63\u001b[0m \u001b[32m━━━━━━━━━━━━━━━━━━━━\u001b[0m\u001b[37m\u001b[0m \u001b[1m20s\u001b[0m 159ms/step - loss: 9.0546e-05 - val_loss: 7.9325e-04\n",
            "Epoch 77/100\n",
            "\u001b[1m63/63\u001b[0m \u001b[32m━━━━━━━━━━━━━━━━━━━━\u001b[0m\u001b[37m\u001b[0m \u001b[1m9s\u001b[0m 143ms/step - loss: 7.3510e-05 - val_loss: 0.0011\n",
            "Epoch 78/100\n",
            "\u001b[1m63/63\u001b[0m \u001b[32m━━━━━━━━━━━━━━━━━━━━\u001b[0m\u001b[37m\u001b[0m \u001b[1m12s\u001b[0m 169ms/step - loss: 7.7456e-05 - val_loss: 6.7323e-04\n",
            "Epoch 79/100\n",
            "\u001b[1m63/63\u001b[0m \u001b[32m━━━━━━━━━━━━━━━━━━━━\u001b[0m\u001b[37m\u001b[0m \u001b[1m20s\u001b[0m 163ms/step - loss: 8.5283e-05 - val_loss: 5.7392e-04\n",
            "Epoch 80/100\n",
            "\u001b[1m63/63\u001b[0m \u001b[32m━━━━━━━━━━━━━━━━━━━━\u001b[0m\u001b[37m\u001b[0m \u001b[1m9s\u001b[0m 139ms/step - loss: 9.3823e-05 - val_loss: 8.9628e-04\n",
            "Epoch 81/100\n",
            "\u001b[1m63/63\u001b[0m \u001b[32m━━━━━━━━━━━━━━━━━━━━\u001b[0m\u001b[37m\u001b[0m \u001b[1m11s\u001b[0m 157ms/step - loss: 8.8735e-05 - val_loss: 4.6309e-04\n",
            "Epoch 82/100\n",
            "\u001b[1m63/63\u001b[0m \u001b[32m━━━━━━━━━━━━━━━━━━━━\u001b[0m\u001b[37m\u001b[0m \u001b[1m11s\u001b[0m 166ms/step - loss: 1.0095e-04 - val_loss: 7.7630e-04\n",
            "Epoch 83/100\n",
            "\u001b[1m63/63\u001b[0m \u001b[32m━━━━━━━━━━━━━━━━━━━━\u001b[0m\u001b[37m\u001b[0m \u001b[1m19s\u001b[0m 147ms/step - loss: 6.4088e-05 - val_loss: 0.0012\n",
            "Epoch 84/100\n",
            "\u001b[1m63/63\u001b[0m \u001b[32m━━━━━━━━━━━━━━━━━━━━\u001b[0m\u001b[37m\u001b[0m \u001b[1m10s\u001b[0m 158ms/step - loss: 7.4039e-05 - val_loss: 0.0017\n",
            "Epoch 85/100\n",
            "\u001b[1m63/63\u001b[0m \u001b[32m━━━━━━━━━━━━━━━━━━━━\u001b[0m\u001b[37m\u001b[0m \u001b[1m10s\u001b[0m 167ms/step - loss: 8.3020e-05 - val_loss: 0.0013\n",
            "Epoch 86/100\n",
            "\u001b[1m63/63\u001b[0m \u001b[32m━━━━━━━━━━━━━━━━━━━━\u001b[0m\u001b[37m\u001b[0m \u001b[1m19s\u001b[0m 143ms/step - loss: 8.2620e-05 - val_loss: 9.1636e-04\n",
            "Epoch 87/100\n",
            "\u001b[1m63/63\u001b[0m \u001b[32m━━━━━━━━━━━━━━━━━━━━\u001b[0m\u001b[37m\u001b[0m \u001b[1m10s\u001b[0m 142ms/step - loss: 9.7282e-05 - val_loss: 8.9428e-04\n",
            "Epoch 88/100\n",
            "\u001b[1m63/63\u001b[0m \u001b[32m━━━━━━━━━━━━━━━━━━━━\u001b[0m\u001b[37m\u001b[0m \u001b[1m12s\u001b[0m 167ms/step - loss: 6.5870e-05 - val_loss: 0.0013\n",
            "Epoch 89/100\n",
            "\u001b[1m63/63\u001b[0m \u001b[32m━━━━━━━━━━━━━━━━━━━━\u001b[0m\u001b[37m\u001b[0m \u001b[1m20s\u001b[0m 160ms/step - loss: 6.8407e-05 - val_loss: 0.0016\n",
            "Epoch 90/100\n",
            "\u001b[1m63/63\u001b[0m \u001b[32m━━━━━━━━━━━━━━━━━━━━\u001b[0m\u001b[37m\u001b[0m \u001b[1m9s\u001b[0m 140ms/step - loss: 7.8625e-05 - val_loss: 0.0014\n",
            "Epoch 91/100\n",
            "\u001b[1m63/63\u001b[0m \u001b[32m━━━━━━━━━━━━━━━━━━━━\u001b[0m\u001b[37m\u001b[0m \u001b[1m10s\u001b[0m 165ms/step - loss: 6.7197e-05 - val_loss: 0.0025\n",
            "Epoch 92/100\n",
            "\u001b[1m63/63\u001b[0m \u001b[32m━━━━━━━━━━━━━━━━━━━━\u001b[0m\u001b[37m\u001b[0m \u001b[1m20s\u001b[0m 164ms/step - loss: 6.9735e-05 - val_loss: 9.7722e-04\n",
            "Epoch 93/100\n",
            "\u001b[1m63/63\u001b[0m \u001b[32m━━━━━━━━━━━━━━━━━━━━\u001b[0m\u001b[37m\u001b[0m \u001b[1m20s\u001b[0m 156ms/step - loss: 8.9490e-05 - val_loss: 0.0020\n",
            "Epoch 94/100\n",
            "\u001b[1m63/63\u001b[0m \u001b[32m━━━━━━━━━━━━━━━━━━━━\u001b[0m\u001b[37m\u001b[0m \u001b[1m11s\u001b[0m 167ms/step - loss: 7.2745e-05 - val_loss: 0.0013\n",
            "Epoch 95/100\n",
            "\u001b[1m63/63\u001b[0m \u001b[32m━━━━━━━━━━━━━━━━━━━━\u001b[0m\u001b[37m\u001b[0m \u001b[1m19s\u001b[0m 147ms/step - loss: 6.4374e-05 - val_loss: 4.7800e-04\n",
            "Epoch 96/100\n",
            "\u001b[1m63/63\u001b[0m \u001b[32m━━━━━━━━━━━━━━━━━━━━\u001b[0m\u001b[37m\u001b[0m \u001b[1m10s\u001b[0m 142ms/step - loss: 7.9117e-05 - val_loss: 0.0011\n",
            "Epoch 97/100\n",
            "\u001b[1m63/63\u001b[0m \u001b[32m━━━━━━━━━━━━━━━━━━━━\u001b[0m\u001b[37m\u001b[0m \u001b[1m11s\u001b[0m 168ms/step - loss: 8.5297e-05 - val_loss: 0.0017\n",
            "Epoch 98/100\n",
            "\u001b[1m63/63\u001b[0m \u001b[32m━━━━━━━━━━━━━━━━━━━━\u001b[0m\u001b[37m\u001b[0m \u001b[1m20s\u001b[0m 160ms/step - loss: 6.1468e-05 - val_loss: 0.0031\n",
            "Epoch 99/100\n",
            "\u001b[1m63/63\u001b[0m \u001b[32m━━━━━━━━━━━━━━━━━━━━\u001b[0m\u001b[37m\u001b[0m \u001b[1m9s\u001b[0m 139ms/step - loss: 6.2669e-05 - val_loss: 0.0028\n",
            "Epoch 100/100\n",
            "\u001b[1m63/63\u001b[0m \u001b[32m━━━━━━━━━━━━━━━━━━━━\u001b[0m\u001b[37m\u001b[0m \u001b[1m12s\u001b[0m 167ms/step - loss: 6.1727e-05 - val_loss: 0.0012\n"
          ]
        },
        {
          "data": {
            "text/plain": [
              "<keras.src.callbacks.history.History at 0x7ebca2b29ab0>"
            ]
          },
          "execution_count": 72,
          "metadata": {},
          "output_type": "execute_result"
        }
      ],
      "source": [
        "model.fit(X_train,y_train,validation_data=(X_test,ytest),epochs=100,batch_size=32,verbose=1)"
      ]
    },
    {
      "cell_type": "code",
      "execution_count": 74,
      "metadata": {
        "colab": {
          "base_uri": "https://localhost:8080/"
        },
        "id": "-HvVoyEQP_05",
        "outputId": "f3936c51-5d89-48d3-d931-79eaf7afc3d1"
      },
      "outputs": [
        {
          "name": "stderr",
          "output_type": "stream",
          "text": [
            "WARNING:absl:You are saving your model as an HDF5 file via `model.save()` or `keras.saving.save_model(model)`. This file format is considered legacy. We recommend using instead the native Keras format, e.g. `model.save('my_model.keras')` or `keras.saving.save_model(model, 'my_model.keras')`. \n"
          ]
        }
      ],
      "source": [
        "model.save('model.h5')"
      ]
    },
    {
      "cell_type": "code",
      "execution_count": 75,
      "metadata": {
        "colab": {
          "base_uri": "https://localhost:8080/"
        },
        "id": "EACuY9h150wE",
        "outputId": "bf9c2784-9a45-4557-b574-7bf0b22bf9ae"
      },
      "outputs": [
        {
          "name": "stdout",
          "output_type": "stream",
          "text": [
            "\u001b[1m63/63\u001b[0m \u001b[32m━━━━━━━━━━━━━━━━━━━━\u001b[0m\u001b[37m\u001b[0m \u001b[1m4s\u001b[0m 51ms/step\n",
            "\u001b[1m26/26\u001b[0m \u001b[32m━━━━━━━━━━━━━━━━━━━━\u001b[0m\u001b[37m\u001b[0m \u001b[1m1s\u001b[0m 34ms/step\n"
          ]
        }
      ],
      "source": [
        "train_predict=model.predict(X_train)\n",
        "test_predict=model.predict(X_test)"
      ]
    },
    {
      "cell_type": "code",
      "execution_count": 76,
      "metadata": {
        "id": "CKJwQr3K50wE"
      },
      "outputs": [],
      "source": [
        "train_predict=scaler.inverse_transform(train_predict)\n",
        "test_predict=scaler.inverse_transform(test_predict)"
      ]
    },
    {
      "cell_type": "code",
      "execution_count": 77,
      "metadata": {
        "colab": {
          "base_uri": "https://localhost:8080/"
        },
        "id": "YqsXHz8T50wE",
        "outputId": "07a1df28-8f74-4689-8986-6b750ebb017c"
      },
      "outputs": [
        {
          "data": {
            "text/plain": [
              "313.24446103373555"
            ]
          },
          "execution_count": 77,
          "metadata": {},
          "output_type": "execute_result"
        }
      ],
      "source": [
        "import math\n",
        "from sklearn.metrics import mean_squared_error\n",
        "math.sqrt(mean_squared_error(y_train,train_predict))"
      ]
    },
    {
      "cell_type": "code",
      "execution_count": 110,
      "metadata": {
        "colab": {
          "base_uri": "https://localhost:8080/"
        },
        "id": "ztiCgx9aBVYJ",
        "outputId": "b3a77afd-1958-4a3d-d5b1-42a1e377fc8b"
      },
      "outputs": [
        {
          "data": {
            "text/plain": [
              "749.3720755797249"
            ]
          },
          "execution_count": 110,
          "metadata": {},
          "output_type": "execute_result"
        }
      ],
      "source": [
        "math.sqrt(mean_squared_error(ytest,test_predict))"
      ]
    },
    {
      "cell_type": "code",
      "execution_count": 83,
      "metadata": {
        "colab": {
          "base_uri": "https://localhost:8080/"
        },
        "id": "9St3cxK77bRZ",
        "outputId": "fae7849c-13aa-4735-ade7-41df94940d93"
      },
      "outputs": [
        {
          "data": {
            "text/plain": [
              "(2012, 100, 1)"
            ]
          },
          "execution_count": 83,
          "metadata": {},
          "output_type": "execute_result"
        }
      ],
      "source": [
        "X_train.shape"
      ]
    },
    {
      "cell_type": "code",
      "execution_count": 85,
      "metadata": {
        "colab": {
          "base_uri": "https://localhost:8080/"
        },
        "id": "HJ4gHZhr74zI",
        "outputId": "d65aff43-5be5-45f2-a17f-00e04cbdff54"
      },
      "outputs": [
        {
          "data": {
            "text/plain": [
              "(2012, 1)"
            ]
          },
          "execution_count": 85,
          "metadata": {},
          "output_type": "execute_result"
        }
      ],
      "source": [
        "train_predict.shape"
      ]
    },
    {
      "cell_type": "code",
      "execution_count": 87,
      "metadata": {
        "colab": {
          "base_uri": "https://localhost:8080/"
        },
        "id": "Mc9BZk8K50wE",
        "outputId": "0d6a2e7d-c961-4b7f-f5fc-9e6f5ee9dbe4"
      },
      "outputs": [
        {
          "data": {
            "text/plain": [
              "906"
            ]
          },
          "execution_count": 87,
          "metadata": {},
          "output_type": "execute_result"
        }
      ],
      "source": [
        "len(test_data)"
      ]
    },
    {
      "cell_type": "code",
      "execution_count": 89,
      "metadata": {
        "colab": {
          "base_uri": "https://localhost:8080/"
        },
        "id": "zCfq7Xo950wI",
        "outputId": "49959870-c32e-46d4-9722-0ad17a5e8b32"
      },
      "outputs": [
        {
          "data": {
            "text/plain": [
              "(1, 100)"
            ]
          },
          "execution_count": 89,
          "metadata": {},
          "output_type": "execute_result"
        }
      ],
      "source": [
        "x_input=test_data[806:].reshape(1,-1)\n",
        "x_input.shape\n"
      ]
    },
    {
      "cell_type": "code",
      "execution_count": 90,
      "metadata": {
        "id": "L5fUe8b950wI"
      },
      "outputs": [],
      "source": [
        "temp_input=list(x_input)\n",
        "temp_input=temp_input[0].tolist()"
      ]
    },
    {
      "cell_type": "code",
      "execution_count": 91,
      "metadata": {
        "colab": {
          "base_uri": "https://localhost:8080/"
        },
        "collapsed": true,
        "id": "9jU24rfP50wI",
        "outputId": "fc3ed4a0-8f97-4386-fe38-787474d5a178"
      },
      "outputs": [
        {
          "data": {
            "text/plain": [
              "[0.8483539697147162,\n",
              " 0.8311093449343263,\n",
              " 0.837906801639756,\n",
              " 0.8471513427591402,\n",
              " 0.8462624445745841,\n",
              " 0.852735714883293,\n",
              " 0.8353655985944952,\n",
              " 0.8338178699907974,\n",
              " 0.8282648707437466,\n",
              " 0.8486886137371372,\n",
              " 0.8509683761398814,\n",
              " 0.8450179871162053,\n",
              " 0.8383355642934829,\n",
              " 0.8358571070024263,\n",
              " 0.84382581778633,\n",
              " 0.8520664268384508,\n",
              " 0.8642077302769182,\n",
              " 0.8608090019242034,\n",
              " 0.8498180373128088,\n",
              " 0.8503827491006444,\n",
              " 0.8586129005270644,\n",
              " 0.8497448339329041,\n",
              " 0.8517108675646283,\n",
              " 0.8552246298000503,\n",
              " 0.8591880699406009,\n",
              " 0.8484062578432194,\n",
              " 0.8433447670040994,\n",
              " 0.8375512423659335,\n",
              " 0.8449866142391034,\n",
              " 0.8561553584874091,\n",
              " 0.8561658161131098,\n",
              " 0.8516794946875264,\n",
              " 0.8422885468083328,\n",
              " 0.8455826989040409,\n",
              " 0.8690809838534261,\n",
              " 0.8742156780724506,\n",
              " 0.8835334225717395,\n",
              " 0.8769974065088264,\n",
              " 0.8818183719568311,\n",
              " 0.8762758303354807,\n",
              " 0.8955283192503976,\n",
              " 0.9043650129674561,\n",
              " 0.902974148749268,\n",
              " 0.8982577595582699,\n",
              " 0.9169246214339497,\n",
              " 0.9169246214339497,\n",
              " 0.9192462143394966,\n",
              " 0.9207939429431944,\n",
              " 0.9225194511838033,\n",
              " 0.9243390780557184,\n",
              " 0.9129402660419981,\n",
              " 0.9163180791433114,\n",
              " 0.8958943361499205,\n",
              " 0.8989793357316156,\n",
              " 0.9020852505647119,\n",
              " 0.9020434200619092,\n",
              " 0.9462268886472018,\n",
              " 0.945662176859366,\n",
              " 0.9455680582280601,\n",
              " 0.9555655483978918,\n",
              " 0.9559524805488164,\n",
              " 0.9632937337906804,\n",
              " 0.9556492094034972,\n",
              " 0.9658035639588392,\n",
              " 0.9719735631222288,\n",
              " 0.9609198527566303,\n",
              " 0.9571864803814945,\n",
              " 0.9541014807997994,\n",
              " 0.9545616163306285,\n",
              " 0.9490922780891828,\n",
              " 0.9617041746841799,\n",
              " 0.9485484815527485,\n",
              " 0.9472621935915673,\n",
              " 0.9636179201874007,\n",
              " 0.965312055550908,\n",
              " 0.9701225633732118,\n",
              " 0.9863214255835357,\n",
              " 0.9772023759725592,\n",
              " 0.950106667782147,\n",
              " 0.948841295072367,\n",
              " 0.9372333305446332,\n",
              " 0.9234292646197608,\n",
              " 0.9315130092863717,\n",
              " 0.9452334142056389,\n",
              " 0.9576257006609221,\n",
              " 0.9626558186229401,\n",
              " 0.9653643436794113,\n",
              " 0.9620179034551997,\n",
              " 0.964757801388773,\n",
              " 0.9711160378147747,\n",
              " 0.986310967957835,\n",
              " 1.0,\n",
              " 0.9944470007529491,\n",
              " 0.987942357567138,\n",
              " 0.985108341002259,\n",
              " 0.9830272734878274,\n",
              " 0.9798795281519284,\n",
              " 0.9739709696310552,\n",
              " 0.9695264787082742,\n",
              " 0.9668597841546058]"
            ]
          },
          "execution_count": 91,
          "metadata": {},
          "output_type": "execute_result"
        }
      ],
      "source": [
        "temp_input"
      ]
    },
    {
      "cell_type": "code",
      "execution_count": 92,
      "metadata": {
        "colab": {
          "base_uri": "https://localhost:8080/"
        },
        "id": "rOcOkOkV50wI",
        "outputId": "ab24f296-429d-4eef-9a67-43715c6935f9"
      },
      "outputs": [
        {
          "name": "stdout",
          "output_type": "stream",
          "text": [
            "[0.88045394]\n",
            "101\n",
            "1 day input [0.83110934 0.8379068  0.84715134 0.84626244 0.85273571 0.8353656\n",
            " 0.83381787 0.82826487 0.84868861 0.85096838 0.84501799 0.83833556\n",
            " 0.83585711 0.84382582 0.85206643 0.86420773 0.860809   0.84981804\n",
            " 0.85038275 0.8586129  0.84974483 0.85171087 0.85522463 0.85918807\n",
            " 0.84840626 0.84334477 0.83755124 0.84498661 0.85615536 0.85616582\n",
            " 0.85167949 0.84228855 0.8455827  0.86908098 0.87421568 0.88353342\n",
            " 0.87699741 0.88181837 0.87627583 0.89552832 0.90436501 0.90297415\n",
            " 0.89825776 0.91692462 0.91692462 0.91924621 0.92079394 0.92251945\n",
            " 0.92433908 0.91294027 0.91631808 0.89589434 0.89897934 0.90208525\n",
            " 0.90204342 0.94622689 0.94566218 0.94556806 0.95556555 0.95595248\n",
            " 0.96329373 0.95564921 0.96580356 0.97197356 0.96091985 0.95718648\n",
            " 0.95410148 0.95456162 0.94909228 0.96170417 0.94854848 0.94726219\n",
            " 0.96361792 0.96531206 0.97012256 0.98632143 0.97720238 0.95010667\n",
            " 0.9488413  0.93723333 0.92342926 0.93151301 0.94523341 0.9576257\n",
            " 0.96265582 0.96536434 0.9620179  0.9647578  0.97111604 0.98631097\n",
            " 1.         0.994447   0.98794236 0.98510834 0.98302727 0.97987953\n",
            " 0.97397097 0.96952648 0.96685978 0.88045394]\n",
            "1 day output [[0.8527658]]\n",
            "2 day input [0.8379068  0.84715134 0.84626244 0.85273571 0.8353656  0.83381787\n",
            " 0.82826487 0.84868861 0.85096838 0.84501799 0.83833556 0.83585711\n",
            " 0.84382582 0.85206643 0.86420773 0.860809   0.84981804 0.85038275\n",
            " 0.8586129  0.84974483 0.85171087 0.85522463 0.85918807 0.84840626\n",
            " 0.84334477 0.83755124 0.84498661 0.85615536 0.85616582 0.85167949\n",
            " 0.84228855 0.8455827  0.86908098 0.87421568 0.88353342 0.87699741\n",
            " 0.88181837 0.87627583 0.89552832 0.90436501 0.90297415 0.89825776\n",
            " 0.91692462 0.91692462 0.91924621 0.92079394 0.92251945 0.92433908\n",
            " 0.91294027 0.91631808 0.89589434 0.89897934 0.90208525 0.90204342\n",
            " 0.94622689 0.94566218 0.94556806 0.95556555 0.95595248 0.96329373\n",
            " 0.95564921 0.96580356 0.97197356 0.96091985 0.95718648 0.95410148\n",
            " 0.95456162 0.94909228 0.96170417 0.94854848 0.94726219 0.96361792\n",
            " 0.96531206 0.97012256 0.98632143 0.97720238 0.95010667 0.9488413\n",
            " 0.93723333 0.92342926 0.93151301 0.94523341 0.9576257  0.96265582\n",
            " 0.96536434 0.9620179  0.9647578  0.97111604 0.98631097 1.\n",
            " 0.994447   0.98794236 0.98510834 0.98302727 0.97987953 0.97397097\n",
            " 0.96952648 0.96685978 0.88045394 0.8527658 ]\n",
            "2 day output [[0.83193755]]\n",
            "3 day input [0.84715134 0.84626244 0.85273571 0.8353656  0.83381787 0.82826487\n",
            " 0.84868861 0.85096838 0.84501799 0.83833556 0.83585711 0.84382582\n",
            " 0.85206643 0.86420773 0.860809   0.84981804 0.85038275 0.8586129\n",
            " 0.84974483 0.85171087 0.85522463 0.85918807 0.84840626 0.84334477\n",
            " 0.83755124 0.84498661 0.85615536 0.85616582 0.85167949 0.84228855\n",
            " 0.8455827  0.86908098 0.87421568 0.88353342 0.87699741 0.88181837\n",
            " 0.87627583 0.89552832 0.90436501 0.90297415 0.89825776 0.91692462\n",
            " 0.91692462 0.91924621 0.92079394 0.92251945 0.92433908 0.91294027\n",
            " 0.91631808 0.89589434 0.89897934 0.90208525 0.90204342 0.94622689\n",
            " 0.94566218 0.94556806 0.95556555 0.95595248 0.96329373 0.95564921\n",
            " 0.96580356 0.97197356 0.96091985 0.95718648 0.95410148 0.95456162\n",
            " 0.94909228 0.96170417 0.94854848 0.94726219 0.96361792 0.96531206\n",
            " 0.97012256 0.98632143 0.97720238 0.95010667 0.9488413  0.93723333\n",
            " 0.92342926 0.93151301 0.94523341 0.9576257  0.96265582 0.96536434\n",
            " 0.9620179  0.9647578  0.97111604 0.98631097 1.         0.994447\n",
            " 0.98794236 0.98510834 0.98302727 0.97987953 0.97397097 0.96952648\n",
            " 0.96685978 0.88045394 0.8527658  0.83193755]\n",
            "3 day output [[0.8175715]]\n",
            "4 day input [0.84626244 0.85273571 0.8353656  0.83381787 0.82826487 0.84868861\n",
            " 0.85096838 0.84501799 0.83833556 0.83585711 0.84382582 0.85206643\n",
            " 0.86420773 0.860809   0.84981804 0.85038275 0.8586129  0.84974483\n",
            " 0.85171087 0.85522463 0.85918807 0.84840626 0.84334477 0.83755124\n",
            " 0.84498661 0.85615536 0.85616582 0.85167949 0.84228855 0.8455827\n",
            " 0.86908098 0.87421568 0.88353342 0.87699741 0.88181837 0.87627583\n",
            " 0.89552832 0.90436501 0.90297415 0.89825776 0.91692462 0.91692462\n",
            " 0.91924621 0.92079394 0.92251945 0.92433908 0.91294027 0.91631808\n",
            " 0.89589434 0.89897934 0.90208525 0.90204342 0.94622689 0.94566218\n",
            " 0.94556806 0.95556555 0.95595248 0.96329373 0.95564921 0.96580356\n",
            " 0.97197356 0.96091985 0.95718648 0.95410148 0.95456162 0.94909228\n",
            " 0.96170417 0.94854848 0.94726219 0.96361792 0.96531206 0.97012256\n",
            " 0.98632143 0.97720238 0.95010667 0.9488413  0.93723333 0.92342926\n",
            " 0.93151301 0.94523341 0.9576257  0.96265582 0.96536434 0.9620179\n",
            " 0.9647578  0.97111604 0.98631097 1.         0.994447   0.98794236\n",
            " 0.98510834 0.98302727 0.97987953 0.97397097 0.96952648 0.96685978\n",
            " 0.88045394 0.8527658  0.83193755 0.81757152]\n",
            "4 day output [[0.8055896]]\n",
            "5 day input [0.85273571 0.8353656  0.83381787 0.82826487 0.84868861 0.85096838\n",
            " 0.84501799 0.83833556 0.83585711 0.84382582 0.85206643 0.86420773\n",
            " 0.860809   0.84981804 0.85038275 0.8586129  0.84974483 0.85171087\n",
            " 0.85522463 0.85918807 0.84840626 0.84334477 0.83755124 0.84498661\n",
            " 0.85615536 0.85616582 0.85167949 0.84228855 0.8455827  0.86908098\n",
            " 0.87421568 0.88353342 0.87699741 0.88181837 0.87627583 0.89552832\n",
            " 0.90436501 0.90297415 0.89825776 0.91692462 0.91692462 0.91924621\n",
            " 0.92079394 0.92251945 0.92433908 0.91294027 0.91631808 0.89589434\n",
            " 0.89897934 0.90208525 0.90204342 0.94622689 0.94566218 0.94556806\n",
            " 0.95556555 0.95595248 0.96329373 0.95564921 0.96580356 0.97197356\n",
            " 0.96091985 0.95718648 0.95410148 0.95456162 0.94909228 0.96170417\n",
            " 0.94854848 0.94726219 0.96361792 0.96531206 0.97012256 0.98632143\n",
            " 0.97720238 0.95010667 0.9488413  0.93723333 0.92342926 0.93151301\n",
            " 0.94523341 0.9576257  0.96265582 0.96536434 0.9620179  0.9647578\n",
            " 0.97111604 0.98631097 1.         0.994447   0.98794236 0.98510834\n",
            " 0.98302727 0.97987953 0.97397097 0.96952648 0.96685978 0.88045394\n",
            " 0.8527658  0.83193755 0.81757152 0.80558962]\n",
            "5 day output [[0.7949711]]\n",
            "6 day input [0.8353656  0.83381787 0.82826487 0.84868861 0.85096838 0.84501799\n",
            " 0.83833556 0.83585711 0.84382582 0.85206643 0.86420773 0.860809\n",
            " 0.84981804 0.85038275 0.8586129  0.84974483 0.85171087 0.85522463\n",
            " 0.85918807 0.84840626 0.84334477 0.83755124 0.84498661 0.85615536\n",
            " 0.85616582 0.85167949 0.84228855 0.8455827  0.86908098 0.87421568\n",
            " 0.88353342 0.87699741 0.88181837 0.87627583 0.89552832 0.90436501\n",
            " 0.90297415 0.89825776 0.91692462 0.91692462 0.91924621 0.92079394\n",
            " 0.92251945 0.92433908 0.91294027 0.91631808 0.89589434 0.89897934\n",
            " 0.90208525 0.90204342 0.94622689 0.94566218 0.94556806 0.95556555\n",
            " 0.95595248 0.96329373 0.95564921 0.96580356 0.97197356 0.96091985\n",
            " 0.95718648 0.95410148 0.95456162 0.94909228 0.96170417 0.94854848\n",
            " 0.94726219 0.96361792 0.96531206 0.97012256 0.98632143 0.97720238\n",
            " 0.95010667 0.9488413  0.93723333 0.92342926 0.93151301 0.94523341\n",
            " 0.9576257  0.96265582 0.96536434 0.9620179  0.9647578  0.97111604\n",
            " 0.98631097 1.         0.994447   0.98794236 0.98510834 0.98302727\n",
            " 0.97987953 0.97397097 0.96952648 0.96685978 0.88045394 0.8527658\n",
            " 0.83193755 0.81757152 0.80558962 0.79497111]\n",
            "6 day output [[0.78601235]]\n",
            "7 day input [0.83381787 0.82826487 0.84868861 0.85096838 0.84501799 0.83833556\n",
            " 0.83585711 0.84382582 0.85206643 0.86420773 0.860809   0.84981804\n",
            " 0.85038275 0.8586129  0.84974483 0.85171087 0.85522463 0.85918807\n",
            " 0.84840626 0.84334477 0.83755124 0.84498661 0.85615536 0.85616582\n",
            " 0.85167949 0.84228855 0.8455827  0.86908098 0.87421568 0.88353342\n",
            " 0.87699741 0.88181837 0.87627583 0.89552832 0.90436501 0.90297415\n",
            " 0.89825776 0.91692462 0.91692462 0.91924621 0.92079394 0.92251945\n",
            " 0.92433908 0.91294027 0.91631808 0.89589434 0.89897934 0.90208525\n",
            " 0.90204342 0.94622689 0.94566218 0.94556806 0.95556555 0.95595248\n",
            " 0.96329373 0.95564921 0.96580356 0.97197356 0.96091985 0.95718648\n",
            " 0.95410148 0.95456162 0.94909228 0.96170417 0.94854848 0.94726219\n",
            " 0.96361792 0.96531206 0.97012256 0.98632143 0.97720238 0.95010667\n",
            " 0.9488413  0.93723333 0.92342926 0.93151301 0.94523341 0.9576257\n",
            " 0.96265582 0.96536434 0.9620179  0.9647578  0.97111604 0.98631097\n",
            " 1.         0.994447   0.98794236 0.98510834 0.98302727 0.97987953\n",
            " 0.97397097 0.96952648 0.96685978 0.88045394 0.8527658  0.83193755\n",
            " 0.81757152 0.80558962 0.79497111 0.78601235]\n",
            "7 day output [[0.7787569]]\n",
            "8 day input [0.82826487 0.84868861 0.85096838 0.84501799 0.83833556 0.83585711\n",
            " 0.84382582 0.85206643 0.86420773 0.860809   0.84981804 0.85038275\n",
            " 0.8586129  0.84974483 0.85171087 0.85522463 0.85918807 0.84840626\n",
            " 0.84334477 0.83755124 0.84498661 0.85615536 0.85616582 0.85167949\n",
            " 0.84228855 0.8455827  0.86908098 0.87421568 0.88353342 0.87699741\n",
            " 0.88181837 0.87627583 0.89552832 0.90436501 0.90297415 0.89825776\n",
            " 0.91692462 0.91692462 0.91924621 0.92079394 0.92251945 0.92433908\n",
            " 0.91294027 0.91631808 0.89589434 0.89897934 0.90208525 0.90204342\n",
            " 0.94622689 0.94566218 0.94556806 0.95556555 0.95595248 0.96329373\n",
            " 0.95564921 0.96580356 0.97197356 0.96091985 0.95718648 0.95410148\n",
            " 0.95456162 0.94909228 0.96170417 0.94854848 0.94726219 0.96361792\n",
            " 0.96531206 0.97012256 0.98632143 0.97720238 0.95010667 0.9488413\n",
            " 0.93723333 0.92342926 0.93151301 0.94523341 0.9576257  0.96265582\n",
            " 0.96536434 0.9620179  0.9647578  0.97111604 0.98631097 1.\n",
            " 0.994447   0.98794236 0.98510834 0.98302727 0.97987953 0.97397097\n",
            " 0.96952648 0.96685978 0.88045394 0.8527658  0.83193755 0.81757152\n",
            " 0.80558962 0.79497111 0.78601235 0.77875692]\n",
            "8 day output [[0.7729406]]\n",
            "9 day input [0.84868861 0.85096838 0.84501799 0.83833556 0.83585711 0.84382582\n",
            " 0.85206643 0.86420773 0.860809   0.84981804 0.85038275 0.8586129\n",
            " 0.84974483 0.85171087 0.85522463 0.85918807 0.84840626 0.84334477\n",
            " 0.83755124 0.84498661 0.85615536 0.85616582 0.85167949 0.84228855\n",
            " 0.8455827  0.86908098 0.87421568 0.88353342 0.87699741 0.88181837\n",
            " 0.87627583 0.89552832 0.90436501 0.90297415 0.89825776 0.91692462\n",
            " 0.91692462 0.91924621 0.92079394 0.92251945 0.92433908 0.91294027\n",
            " 0.91631808 0.89589434 0.89897934 0.90208525 0.90204342 0.94622689\n",
            " 0.94566218 0.94556806 0.95556555 0.95595248 0.96329373 0.95564921\n",
            " 0.96580356 0.97197356 0.96091985 0.95718648 0.95410148 0.95456162\n",
            " 0.94909228 0.96170417 0.94854848 0.94726219 0.96361792 0.96531206\n",
            " 0.97012256 0.98632143 0.97720238 0.95010667 0.9488413  0.93723333\n",
            " 0.92342926 0.93151301 0.94523341 0.9576257  0.96265582 0.96536434\n",
            " 0.9620179  0.9647578  0.97111604 0.98631097 1.         0.994447\n",
            " 0.98794236 0.98510834 0.98302727 0.97987953 0.97397097 0.96952648\n",
            " 0.96685978 0.88045394 0.8527658  0.83193755 0.81757152 0.80558962\n",
            " 0.79497111 0.78601235 0.77875692 0.77294058]\n",
            "9 day output [[0.76825094]]\n",
            "10 day input [0.85096838 0.84501799 0.83833556 0.83585711 0.84382582 0.85206643\n",
            " 0.86420773 0.860809   0.84981804 0.85038275 0.8586129  0.84974483\n",
            " 0.85171087 0.85522463 0.85918807 0.84840626 0.84334477 0.83755124\n",
            " 0.84498661 0.85615536 0.85616582 0.85167949 0.84228855 0.8455827\n",
            " 0.86908098 0.87421568 0.88353342 0.87699741 0.88181837 0.87627583\n",
            " 0.89552832 0.90436501 0.90297415 0.89825776 0.91692462 0.91692462\n",
            " 0.91924621 0.92079394 0.92251945 0.92433908 0.91294027 0.91631808\n",
            " 0.89589434 0.89897934 0.90208525 0.90204342 0.94622689 0.94566218\n",
            " 0.94556806 0.95556555 0.95595248 0.96329373 0.95564921 0.96580356\n",
            " 0.97197356 0.96091985 0.95718648 0.95410148 0.95456162 0.94909228\n",
            " 0.96170417 0.94854848 0.94726219 0.96361792 0.96531206 0.97012256\n",
            " 0.98632143 0.97720238 0.95010667 0.9488413  0.93723333 0.92342926\n",
            " 0.93151301 0.94523341 0.9576257  0.96265582 0.96536434 0.9620179\n",
            " 0.9647578  0.97111604 0.98631097 1.         0.994447   0.98794236\n",
            " 0.98510834 0.98302727 0.97987953 0.97397097 0.96952648 0.96685978\n",
            " 0.88045394 0.8527658  0.83193755 0.81757152 0.80558962 0.79497111\n",
            " 0.78601235 0.77875692 0.77294058 0.76825094]\n",
            "10 day output [[0.7644268]]\n",
            "11 day input [0.84501799 0.83833556 0.83585711 0.84382582 0.85206643 0.86420773\n",
            " 0.860809   0.84981804 0.85038275 0.8586129  0.84974483 0.85171087\n",
            " 0.85522463 0.85918807 0.84840626 0.84334477 0.83755124 0.84498661\n",
            " 0.85615536 0.85616582 0.85167949 0.84228855 0.8455827  0.86908098\n",
            " 0.87421568 0.88353342 0.87699741 0.88181837 0.87627583 0.89552832\n",
            " 0.90436501 0.90297415 0.89825776 0.91692462 0.91692462 0.91924621\n",
            " 0.92079394 0.92251945 0.92433908 0.91294027 0.91631808 0.89589434\n",
            " 0.89897934 0.90208525 0.90204342 0.94622689 0.94566218 0.94556806\n",
            " 0.95556555 0.95595248 0.96329373 0.95564921 0.96580356 0.97197356\n",
            " 0.96091985 0.95718648 0.95410148 0.95456162 0.94909228 0.96170417\n",
            " 0.94854848 0.94726219 0.96361792 0.96531206 0.97012256 0.98632143\n",
            " 0.97720238 0.95010667 0.9488413  0.93723333 0.92342926 0.93151301\n",
            " 0.94523341 0.9576257  0.96265582 0.96536434 0.9620179  0.9647578\n",
            " 0.97111604 0.98631097 1.         0.994447   0.98794236 0.98510834\n",
            " 0.98302727 0.97987953 0.97397097 0.96952648 0.96685978 0.88045394\n",
            " 0.8527658  0.83193755 0.81757152 0.80558962 0.79497111 0.78601235\n",
            " 0.77875692 0.77294058 0.76825094 0.76442683]\n",
            "11 day output [[0.76125515]]\n",
            "12 day input [0.83833556 0.83585711 0.84382582 0.85206643 0.86420773 0.860809\n",
            " 0.84981804 0.85038275 0.8586129  0.84974483 0.85171087 0.85522463\n",
            " 0.85918807 0.84840626 0.84334477 0.83755124 0.84498661 0.85615536\n",
            " 0.85616582 0.85167949 0.84228855 0.8455827  0.86908098 0.87421568\n",
            " 0.88353342 0.87699741 0.88181837 0.87627583 0.89552832 0.90436501\n",
            " 0.90297415 0.89825776 0.91692462 0.91692462 0.91924621 0.92079394\n",
            " 0.92251945 0.92433908 0.91294027 0.91631808 0.89589434 0.89897934\n",
            " 0.90208525 0.90204342 0.94622689 0.94566218 0.94556806 0.95556555\n",
            " 0.95595248 0.96329373 0.95564921 0.96580356 0.97197356 0.96091985\n",
            " 0.95718648 0.95410148 0.95456162 0.94909228 0.96170417 0.94854848\n",
            " 0.94726219 0.96361792 0.96531206 0.97012256 0.98632143 0.97720238\n",
            " 0.95010667 0.9488413  0.93723333 0.92342926 0.93151301 0.94523341\n",
            " 0.9576257  0.96265582 0.96536434 0.9620179  0.9647578  0.97111604\n",
            " 0.98631097 1.         0.994447   0.98794236 0.98510834 0.98302727\n",
            " 0.97987953 0.97397097 0.96952648 0.96685978 0.88045394 0.8527658\n",
            " 0.83193755 0.81757152 0.80558962 0.79497111 0.78601235 0.77875692\n",
            " 0.77294058 0.76825094 0.76442683 0.76125515]\n",
            "12 day output [[0.75855666]]\n",
            "13 day input [0.83585711 0.84382582 0.85206643 0.86420773 0.860809   0.84981804\n",
            " 0.85038275 0.8586129  0.84974483 0.85171087 0.85522463 0.85918807\n",
            " 0.84840626 0.84334477 0.83755124 0.84498661 0.85615536 0.85616582\n",
            " 0.85167949 0.84228855 0.8455827  0.86908098 0.87421568 0.88353342\n",
            " 0.87699741 0.88181837 0.87627583 0.89552832 0.90436501 0.90297415\n",
            " 0.89825776 0.91692462 0.91692462 0.91924621 0.92079394 0.92251945\n",
            " 0.92433908 0.91294027 0.91631808 0.89589434 0.89897934 0.90208525\n",
            " 0.90204342 0.94622689 0.94566218 0.94556806 0.95556555 0.95595248\n",
            " 0.96329373 0.95564921 0.96580356 0.97197356 0.96091985 0.95718648\n",
            " 0.95410148 0.95456162 0.94909228 0.96170417 0.94854848 0.94726219\n",
            " 0.96361792 0.96531206 0.97012256 0.98632143 0.97720238 0.95010667\n",
            " 0.9488413  0.93723333 0.92342926 0.93151301 0.94523341 0.9576257\n",
            " 0.96265582 0.96536434 0.9620179  0.9647578  0.97111604 0.98631097\n",
            " 1.         0.994447   0.98794236 0.98510834 0.98302727 0.97987953\n",
            " 0.97397097 0.96952648 0.96685978 0.88045394 0.8527658  0.83193755\n",
            " 0.81757152 0.80558962 0.79497111 0.78601235 0.77875692 0.77294058\n",
            " 0.76825094 0.76442683 0.76125515 0.75855666]\n",
            "13 day output [[0.7561803]]\n",
            "14 day input [0.84382582 0.85206643 0.86420773 0.860809   0.84981804 0.85038275\n",
            " 0.8586129  0.84974483 0.85171087 0.85522463 0.85918807 0.84840626\n",
            " 0.84334477 0.83755124 0.84498661 0.85615536 0.85616582 0.85167949\n",
            " 0.84228855 0.8455827  0.86908098 0.87421568 0.88353342 0.87699741\n",
            " 0.88181837 0.87627583 0.89552832 0.90436501 0.90297415 0.89825776\n",
            " 0.91692462 0.91692462 0.91924621 0.92079394 0.92251945 0.92433908\n",
            " 0.91294027 0.91631808 0.89589434 0.89897934 0.90208525 0.90204342\n",
            " 0.94622689 0.94566218 0.94556806 0.95556555 0.95595248 0.96329373\n",
            " 0.95564921 0.96580356 0.97197356 0.96091985 0.95718648 0.95410148\n",
            " 0.95456162 0.94909228 0.96170417 0.94854848 0.94726219 0.96361792\n",
            " 0.96531206 0.97012256 0.98632143 0.97720238 0.95010667 0.9488413\n",
            " 0.93723333 0.92342926 0.93151301 0.94523341 0.9576257  0.96265582\n",
            " 0.96536434 0.9620179  0.9647578  0.97111604 0.98631097 1.\n",
            " 0.994447   0.98794236 0.98510834 0.98302727 0.97987953 0.97397097\n",
            " 0.96952648 0.96685978 0.88045394 0.8527658  0.83193755 0.81757152\n",
            " 0.80558962 0.79497111 0.78601235 0.77875692 0.77294058 0.76825094\n",
            " 0.76442683 0.76125515 0.75855666 0.75618029]\n",
            "14 day output [[0.75400317]]\n",
            "15 day input [0.85206643 0.86420773 0.860809   0.84981804 0.85038275 0.8586129\n",
            " 0.84974483 0.85171087 0.85522463 0.85918807 0.84840626 0.84334477\n",
            " 0.83755124 0.84498661 0.85615536 0.85616582 0.85167949 0.84228855\n",
            " 0.8455827  0.86908098 0.87421568 0.88353342 0.87699741 0.88181837\n",
            " 0.87627583 0.89552832 0.90436501 0.90297415 0.89825776 0.91692462\n",
            " 0.91692462 0.91924621 0.92079394 0.92251945 0.92433908 0.91294027\n",
            " 0.91631808 0.89589434 0.89897934 0.90208525 0.90204342 0.94622689\n",
            " 0.94566218 0.94556806 0.95556555 0.95595248 0.96329373 0.95564921\n",
            " 0.96580356 0.97197356 0.96091985 0.95718648 0.95410148 0.95456162\n",
            " 0.94909228 0.96170417 0.94854848 0.94726219 0.96361792 0.96531206\n",
            " 0.97012256 0.98632143 0.97720238 0.95010667 0.9488413  0.93723333\n",
            " 0.92342926 0.93151301 0.94523341 0.9576257  0.96265582 0.96536434\n",
            " 0.9620179  0.9647578  0.97111604 0.98631097 1.         0.994447\n",
            " 0.98794236 0.98510834 0.98302727 0.97987953 0.97397097 0.96952648\n",
            " 0.96685978 0.88045394 0.8527658  0.83193755 0.81757152 0.80558962\n",
            " 0.79497111 0.78601235 0.77875692 0.77294058 0.76825094 0.76442683\n",
            " 0.76125515 0.75855666 0.75618029 0.75400317]\n",
            "15 day output [[0.7519284]]\n",
            "16 day input [0.86420773 0.860809   0.84981804 0.85038275 0.8586129  0.84974483\n",
            " 0.85171087 0.85522463 0.85918807 0.84840626 0.84334477 0.83755124\n",
            " 0.84498661 0.85615536 0.85616582 0.85167949 0.84228855 0.8455827\n",
            " 0.86908098 0.87421568 0.88353342 0.87699741 0.88181837 0.87627583\n",
            " 0.89552832 0.90436501 0.90297415 0.89825776 0.91692462 0.91692462\n",
            " 0.91924621 0.92079394 0.92251945 0.92433908 0.91294027 0.91631808\n",
            " 0.89589434 0.89897934 0.90208525 0.90204342 0.94622689 0.94566218\n",
            " 0.94556806 0.95556555 0.95595248 0.96329373 0.95564921 0.96580356\n",
            " 0.97197356 0.96091985 0.95718648 0.95410148 0.95456162 0.94909228\n",
            " 0.96170417 0.94854848 0.94726219 0.96361792 0.96531206 0.97012256\n",
            " 0.98632143 0.97720238 0.95010667 0.9488413  0.93723333 0.92342926\n",
            " 0.93151301 0.94523341 0.9576257  0.96265582 0.96536434 0.9620179\n",
            " 0.9647578  0.97111604 0.98631097 1.         0.994447   0.98794236\n",
            " 0.98510834 0.98302727 0.97987953 0.97397097 0.96952648 0.96685978\n",
            " 0.88045394 0.8527658  0.83193755 0.81757152 0.80558962 0.79497111\n",
            " 0.78601235 0.77875692 0.77294058 0.76825094 0.76442683 0.76125515\n",
            " 0.75855666 0.75618029 0.75400317 0.75192839]\n",
            "16 day output [[0.7498827]]\n",
            "17 day input [0.860809   0.84981804 0.85038275 0.8586129  0.84974483 0.85171087\n",
            " 0.85522463 0.85918807 0.84840626 0.84334477 0.83755124 0.84498661\n",
            " 0.85615536 0.85616582 0.85167949 0.84228855 0.8455827  0.86908098\n",
            " 0.87421568 0.88353342 0.87699741 0.88181837 0.87627583 0.89552832\n",
            " 0.90436501 0.90297415 0.89825776 0.91692462 0.91692462 0.91924621\n",
            " 0.92079394 0.92251945 0.92433908 0.91294027 0.91631808 0.89589434\n",
            " 0.89897934 0.90208525 0.90204342 0.94622689 0.94566218 0.94556806\n",
            " 0.95556555 0.95595248 0.96329373 0.95564921 0.96580356 0.97197356\n",
            " 0.96091985 0.95718648 0.95410148 0.95456162 0.94909228 0.96170417\n",
            " 0.94854848 0.94726219 0.96361792 0.96531206 0.97012256 0.98632143\n",
            " 0.97720238 0.95010667 0.9488413  0.93723333 0.92342926 0.93151301\n",
            " 0.94523341 0.9576257  0.96265582 0.96536434 0.9620179  0.9647578\n",
            " 0.97111604 0.98631097 1.         0.994447   0.98794236 0.98510834\n",
            " 0.98302727 0.97987953 0.97397097 0.96952648 0.96685978 0.88045394\n",
            " 0.8527658  0.83193755 0.81757152 0.80558962 0.79497111 0.78601235\n",
            " 0.77875692 0.77294058 0.76825094 0.76442683 0.76125515 0.75855666\n",
            " 0.75618029 0.75400317 0.75192839 0.7498827 ]\n",
            "17 day output [[0.7478123]]\n",
            "18 day input [0.84981804 0.85038275 0.8586129  0.84974483 0.85171087 0.85522463\n",
            " 0.85918807 0.84840626 0.84334477 0.83755124 0.84498661 0.85615536\n",
            " 0.85616582 0.85167949 0.84228855 0.8455827  0.86908098 0.87421568\n",
            " 0.88353342 0.87699741 0.88181837 0.87627583 0.89552832 0.90436501\n",
            " 0.90297415 0.89825776 0.91692462 0.91692462 0.91924621 0.92079394\n",
            " 0.92251945 0.92433908 0.91294027 0.91631808 0.89589434 0.89897934\n",
            " 0.90208525 0.90204342 0.94622689 0.94566218 0.94556806 0.95556555\n",
            " 0.95595248 0.96329373 0.95564921 0.96580356 0.97197356 0.96091985\n",
            " 0.95718648 0.95410148 0.95456162 0.94909228 0.96170417 0.94854848\n",
            " 0.94726219 0.96361792 0.96531206 0.97012256 0.98632143 0.97720238\n",
            " 0.95010667 0.9488413  0.93723333 0.92342926 0.93151301 0.94523341\n",
            " 0.9576257  0.96265582 0.96536434 0.9620179  0.9647578  0.97111604\n",
            " 0.98631097 1.         0.994447   0.98794236 0.98510834 0.98302727\n",
            " 0.97987953 0.97397097 0.96952648 0.96685978 0.88045394 0.8527658\n",
            " 0.83193755 0.81757152 0.80558962 0.79497111 0.78601235 0.77875692\n",
            " 0.77294058 0.76825094 0.76442683 0.76125515 0.75855666 0.75618029\n",
            " 0.75400317 0.75192839 0.7498827  0.74781227]\n",
            "18 day output [[0.74568015]]\n",
            "19 day input [0.85038275 0.8586129  0.84974483 0.85171087 0.85522463 0.85918807\n",
            " 0.84840626 0.84334477 0.83755124 0.84498661 0.85615536 0.85616582\n",
            " 0.85167949 0.84228855 0.8455827  0.86908098 0.87421568 0.88353342\n",
            " 0.87699741 0.88181837 0.87627583 0.89552832 0.90436501 0.90297415\n",
            " 0.89825776 0.91692462 0.91692462 0.91924621 0.92079394 0.92251945\n",
            " 0.92433908 0.91294027 0.91631808 0.89589434 0.89897934 0.90208525\n",
            " 0.90204342 0.94622689 0.94566218 0.94556806 0.95556555 0.95595248\n",
            " 0.96329373 0.95564921 0.96580356 0.97197356 0.96091985 0.95718648\n",
            " 0.95410148 0.95456162 0.94909228 0.96170417 0.94854848 0.94726219\n",
            " 0.96361792 0.96531206 0.97012256 0.98632143 0.97720238 0.95010667\n",
            " 0.9488413  0.93723333 0.92342926 0.93151301 0.94523341 0.9576257\n",
            " 0.96265582 0.96536434 0.9620179  0.9647578  0.97111604 0.98631097\n",
            " 1.         0.994447   0.98794236 0.98510834 0.98302727 0.97987953\n",
            " 0.97397097 0.96952648 0.96685978 0.88045394 0.8527658  0.83193755\n",
            " 0.81757152 0.80558962 0.79497111 0.78601235 0.77875692 0.77294058\n",
            " 0.76825094 0.76442683 0.76125515 0.75855666 0.75618029 0.75400317\n",
            " 0.75192839 0.7498827  0.74781227 0.74568015]\n",
            "19 day output [[0.74346316]]\n",
            "20 day input [0.8586129  0.84974483 0.85171087 0.85522463 0.85918807 0.84840626\n",
            " 0.84334477 0.83755124 0.84498661 0.85615536 0.85616582 0.85167949\n",
            " 0.84228855 0.8455827  0.86908098 0.87421568 0.88353342 0.87699741\n",
            " 0.88181837 0.87627583 0.89552832 0.90436501 0.90297415 0.89825776\n",
            " 0.91692462 0.91692462 0.91924621 0.92079394 0.92251945 0.92433908\n",
            " 0.91294027 0.91631808 0.89589434 0.89897934 0.90208525 0.90204342\n",
            " 0.94622689 0.94566218 0.94556806 0.95556555 0.95595248 0.96329373\n",
            " 0.95564921 0.96580356 0.97197356 0.96091985 0.95718648 0.95410148\n",
            " 0.95456162 0.94909228 0.96170417 0.94854848 0.94726219 0.96361792\n",
            " 0.96531206 0.97012256 0.98632143 0.97720238 0.95010667 0.9488413\n",
            " 0.93723333 0.92342926 0.93151301 0.94523341 0.9576257  0.96265582\n",
            " 0.96536434 0.9620179  0.9647578  0.97111604 0.98631097 1.\n",
            " 0.994447   0.98794236 0.98510834 0.98302727 0.97987953 0.97397097\n",
            " 0.96952648 0.96685978 0.88045394 0.8527658  0.83193755 0.81757152\n",
            " 0.80558962 0.79497111 0.78601235 0.77875692 0.77294058 0.76825094\n",
            " 0.76442683 0.76125515 0.75855666 0.75618029 0.75400317 0.75192839\n",
            " 0.7498827  0.74781227 0.74568015 0.74346316]\n",
            "20 day output [[0.74114853]]\n",
            "21 day input [0.84974483 0.85171087 0.85522463 0.85918807 0.84840626 0.84334477\n",
            " 0.83755124 0.84498661 0.85615536 0.85616582 0.85167949 0.84228855\n",
            " 0.8455827  0.86908098 0.87421568 0.88353342 0.87699741 0.88181837\n",
            " 0.87627583 0.89552832 0.90436501 0.90297415 0.89825776 0.91692462\n",
            " 0.91692462 0.91924621 0.92079394 0.92251945 0.92433908 0.91294027\n",
            " 0.91631808 0.89589434 0.89897934 0.90208525 0.90204342 0.94622689\n",
            " 0.94566218 0.94556806 0.95556555 0.95595248 0.96329373 0.95564921\n",
            " 0.96580356 0.97197356 0.96091985 0.95718648 0.95410148 0.95456162\n",
            " 0.94909228 0.96170417 0.94854848 0.94726219 0.96361792 0.96531206\n",
            " 0.97012256 0.98632143 0.97720238 0.95010667 0.9488413  0.93723333\n",
            " 0.92342926 0.93151301 0.94523341 0.9576257  0.96265582 0.96536434\n",
            " 0.9620179  0.9647578  0.97111604 0.98631097 1.         0.994447\n",
            " 0.98794236 0.98510834 0.98302727 0.97987953 0.97397097 0.96952648\n",
            " 0.96685978 0.88045394 0.8527658  0.83193755 0.81757152 0.80558962\n",
            " 0.79497111 0.78601235 0.77875692 0.77294058 0.76825094 0.76442683\n",
            " 0.76125515 0.75855666 0.75618029 0.75400317 0.75192839 0.7498827\n",
            " 0.74781227 0.74568015 0.74346316 0.74114853]\n",
            "21 day output [[0.73873174]]\n",
            "22 day input [0.85171087 0.85522463 0.85918807 0.84840626 0.84334477 0.83755124\n",
            " 0.84498661 0.85615536 0.85616582 0.85167949 0.84228855 0.8455827\n",
            " 0.86908098 0.87421568 0.88353342 0.87699741 0.88181837 0.87627583\n",
            " 0.89552832 0.90436501 0.90297415 0.89825776 0.91692462 0.91692462\n",
            " 0.91924621 0.92079394 0.92251945 0.92433908 0.91294027 0.91631808\n",
            " 0.89589434 0.89897934 0.90208525 0.90204342 0.94622689 0.94566218\n",
            " 0.94556806 0.95556555 0.95595248 0.96329373 0.95564921 0.96580356\n",
            " 0.97197356 0.96091985 0.95718648 0.95410148 0.95456162 0.94909228\n",
            " 0.96170417 0.94854848 0.94726219 0.96361792 0.96531206 0.97012256\n",
            " 0.98632143 0.97720238 0.95010667 0.9488413  0.93723333 0.92342926\n",
            " 0.93151301 0.94523341 0.9576257  0.96265582 0.96536434 0.9620179\n",
            " 0.9647578  0.97111604 0.98631097 1.         0.994447   0.98794236\n",
            " 0.98510834 0.98302727 0.97987953 0.97397097 0.96952648 0.96685978\n",
            " 0.88045394 0.8527658  0.83193755 0.81757152 0.80558962 0.79497111\n",
            " 0.78601235 0.77875692 0.77294058 0.76825094 0.76442683 0.76125515\n",
            " 0.75855666 0.75618029 0.75400317 0.75192839 0.7498827  0.74781227\n",
            " 0.74568015 0.74346316 0.74114853 0.73873174]\n",
            "22 day output [[0.7362143]]\n",
            "23 day input [0.85522463 0.85918807 0.84840626 0.84334477 0.83755124 0.84498661\n",
            " 0.85615536 0.85616582 0.85167949 0.84228855 0.8455827  0.86908098\n",
            " 0.87421568 0.88353342 0.87699741 0.88181837 0.87627583 0.89552832\n",
            " 0.90436501 0.90297415 0.89825776 0.91692462 0.91692462 0.91924621\n",
            " 0.92079394 0.92251945 0.92433908 0.91294027 0.91631808 0.89589434\n",
            " 0.89897934 0.90208525 0.90204342 0.94622689 0.94566218 0.94556806\n",
            " 0.95556555 0.95595248 0.96329373 0.95564921 0.96580356 0.97197356\n",
            " 0.96091985 0.95718648 0.95410148 0.95456162 0.94909228 0.96170417\n",
            " 0.94854848 0.94726219 0.96361792 0.96531206 0.97012256 0.98632143\n",
            " 0.97720238 0.95010667 0.9488413  0.93723333 0.92342926 0.93151301\n",
            " 0.94523341 0.9576257  0.96265582 0.96536434 0.9620179  0.9647578\n",
            " 0.97111604 0.98631097 1.         0.994447   0.98794236 0.98510834\n",
            " 0.98302727 0.97987953 0.97397097 0.96952648 0.96685978 0.88045394\n",
            " 0.8527658  0.83193755 0.81757152 0.80558962 0.79497111 0.78601235\n",
            " 0.77875692 0.77294058 0.76825094 0.76442683 0.76125515 0.75855666\n",
            " 0.75618029 0.75400317 0.75192839 0.7498827  0.74781227 0.74568015\n",
            " 0.74346316 0.74114853 0.73873174 0.73621428]\n",
            "23 day output [[0.7336024]]\n",
            "24 day input [0.85918807 0.84840626 0.84334477 0.83755124 0.84498661 0.85615536\n",
            " 0.85616582 0.85167949 0.84228855 0.8455827  0.86908098 0.87421568\n",
            " 0.88353342 0.87699741 0.88181837 0.87627583 0.89552832 0.90436501\n",
            " 0.90297415 0.89825776 0.91692462 0.91692462 0.91924621 0.92079394\n",
            " 0.92251945 0.92433908 0.91294027 0.91631808 0.89589434 0.89897934\n",
            " 0.90208525 0.90204342 0.94622689 0.94566218 0.94556806 0.95556555\n",
            " 0.95595248 0.96329373 0.95564921 0.96580356 0.97197356 0.96091985\n",
            " 0.95718648 0.95410148 0.95456162 0.94909228 0.96170417 0.94854848\n",
            " 0.94726219 0.96361792 0.96531206 0.97012256 0.98632143 0.97720238\n",
            " 0.95010667 0.9488413  0.93723333 0.92342926 0.93151301 0.94523341\n",
            " 0.9576257  0.96265582 0.96536434 0.9620179  0.9647578  0.97111604\n",
            " 0.98631097 1.         0.994447   0.98794236 0.98510834 0.98302727\n",
            " 0.97987953 0.97397097 0.96952648 0.96685978 0.88045394 0.8527658\n",
            " 0.83193755 0.81757152 0.80558962 0.79497111 0.78601235 0.77875692\n",
            " 0.77294058 0.76825094 0.76442683 0.76125515 0.75855666 0.75618029\n",
            " 0.75400317 0.75192839 0.7498827  0.74781227 0.74568015 0.74346316\n",
            " 0.74114853 0.73873174 0.73621428 0.7336024 ]\n",
            "24 day output [[0.73090464]]\n",
            "25 day input [0.84840626 0.84334477 0.83755124 0.84498661 0.85615536 0.85616582\n",
            " 0.85167949 0.84228855 0.8455827  0.86908098 0.87421568 0.88353342\n",
            " 0.87699741 0.88181837 0.87627583 0.89552832 0.90436501 0.90297415\n",
            " 0.89825776 0.91692462 0.91692462 0.91924621 0.92079394 0.92251945\n",
            " 0.92433908 0.91294027 0.91631808 0.89589434 0.89897934 0.90208525\n",
            " 0.90204342 0.94622689 0.94566218 0.94556806 0.95556555 0.95595248\n",
            " 0.96329373 0.95564921 0.96580356 0.97197356 0.96091985 0.95718648\n",
            " 0.95410148 0.95456162 0.94909228 0.96170417 0.94854848 0.94726219\n",
            " 0.96361792 0.96531206 0.97012256 0.98632143 0.97720238 0.95010667\n",
            " 0.9488413  0.93723333 0.92342926 0.93151301 0.94523341 0.9576257\n",
            " 0.96265582 0.96536434 0.9620179  0.9647578  0.97111604 0.98631097\n",
            " 1.         0.994447   0.98794236 0.98510834 0.98302727 0.97987953\n",
            " 0.97397097 0.96952648 0.96685978 0.88045394 0.8527658  0.83193755\n",
            " 0.81757152 0.80558962 0.79497111 0.78601235 0.77875692 0.77294058\n",
            " 0.76825094 0.76442683 0.76125515 0.75855666 0.75618029 0.75400317\n",
            " 0.75192839 0.7498827  0.74781227 0.74568015 0.74346316 0.74114853\n",
            " 0.73873174 0.73621428 0.7336024  0.73090464]\n",
            "25 day output [[0.7281313]]\n",
            "26 day input [0.84334477 0.83755124 0.84498661 0.85615536 0.85616582 0.85167949\n",
            " 0.84228855 0.8455827  0.86908098 0.87421568 0.88353342 0.87699741\n",
            " 0.88181837 0.87627583 0.89552832 0.90436501 0.90297415 0.89825776\n",
            " 0.91692462 0.91692462 0.91924621 0.92079394 0.92251945 0.92433908\n",
            " 0.91294027 0.91631808 0.89589434 0.89897934 0.90208525 0.90204342\n",
            " 0.94622689 0.94566218 0.94556806 0.95556555 0.95595248 0.96329373\n",
            " 0.95564921 0.96580356 0.97197356 0.96091985 0.95718648 0.95410148\n",
            " 0.95456162 0.94909228 0.96170417 0.94854848 0.94726219 0.96361792\n",
            " 0.96531206 0.97012256 0.98632143 0.97720238 0.95010667 0.9488413\n",
            " 0.93723333 0.92342926 0.93151301 0.94523341 0.9576257  0.96265582\n",
            " 0.96536434 0.9620179  0.9647578  0.97111604 0.98631097 1.\n",
            " 0.994447   0.98794236 0.98510834 0.98302727 0.97987953 0.97397097\n",
            " 0.96952648 0.96685978 0.88045394 0.8527658  0.83193755 0.81757152\n",
            " 0.80558962 0.79497111 0.78601235 0.77875692 0.77294058 0.76825094\n",
            " 0.76442683 0.76125515 0.75855666 0.75618029 0.75400317 0.75192839\n",
            " 0.7498827  0.74781227 0.74568015 0.74346316 0.74114853 0.73873174\n",
            " 0.73621428 0.7336024  0.73090464 0.72813129]\n",
            "26 day output [[0.7252938]]\n",
            "27 day input [0.83755124 0.84498661 0.85615536 0.85616582 0.85167949 0.84228855\n",
            " 0.8455827  0.86908098 0.87421568 0.88353342 0.87699741 0.88181837\n",
            " 0.87627583 0.89552832 0.90436501 0.90297415 0.89825776 0.91692462\n",
            " 0.91692462 0.91924621 0.92079394 0.92251945 0.92433908 0.91294027\n",
            " 0.91631808 0.89589434 0.89897934 0.90208525 0.90204342 0.94622689\n",
            " 0.94566218 0.94556806 0.95556555 0.95595248 0.96329373 0.95564921\n",
            " 0.96580356 0.97197356 0.96091985 0.95718648 0.95410148 0.95456162\n",
            " 0.94909228 0.96170417 0.94854848 0.94726219 0.96361792 0.96531206\n",
            " 0.97012256 0.98632143 0.97720238 0.95010667 0.9488413  0.93723333\n",
            " 0.92342926 0.93151301 0.94523341 0.9576257  0.96265582 0.96536434\n",
            " 0.9620179  0.9647578  0.97111604 0.98631097 1.         0.994447\n",
            " 0.98794236 0.98510834 0.98302727 0.97987953 0.97397097 0.96952648\n",
            " 0.96685978 0.88045394 0.8527658  0.83193755 0.81757152 0.80558962\n",
            " 0.79497111 0.78601235 0.77875692 0.77294058 0.76825094 0.76442683\n",
            " 0.76125515 0.75855666 0.75618029 0.75400317 0.75192839 0.7498827\n",
            " 0.74781227 0.74568015 0.74346316 0.74114853 0.73873174 0.73621428\n",
            " 0.7336024  0.73090464 0.72813129 0.72529382]\n",
            "27 day output [[0.72240365]]\n",
            "28 day input [0.84498661 0.85615536 0.85616582 0.85167949 0.84228855 0.8455827\n",
            " 0.86908098 0.87421568 0.88353342 0.87699741 0.88181837 0.87627583\n",
            " 0.89552832 0.90436501 0.90297415 0.89825776 0.91692462 0.91692462\n",
            " 0.91924621 0.92079394 0.92251945 0.92433908 0.91294027 0.91631808\n",
            " 0.89589434 0.89897934 0.90208525 0.90204342 0.94622689 0.94566218\n",
            " 0.94556806 0.95556555 0.95595248 0.96329373 0.95564921 0.96580356\n",
            " 0.97197356 0.96091985 0.95718648 0.95410148 0.95456162 0.94909228\n",
            " 0.96170417 0.94854848 0.94726219 0.96361792 0.96531206 0.97012256\n",
            " 0.98632143 0.97720238 0.95010667 0.9488413  0.93723333 0.92342926\n",
            " 0.93151301 0.94523341 0.9576257  0.96265582 0.96536434 0.9620179\n",
            " 0.9647578  0.97111604 0.98631097 1.         0.994447   0.98794236\n",
            " 0.98510834 0.98302727 0.97987953 0.97397097 0.96952648 0.96685978\n",
            " 0.88045394 0.8527658  0.83193755 0.81757152 0.80558962 0.79497111\n",
            " 0.78601235 0.77875692 0.77294058 0.76825094 0.76442683 0.76125515\n",
            " 0.75855666 0.75618029 0.75400317 0.75192839 0.7498827  0.74781227\n",
            " 0.74568015 0.74346316 0.74114853 0.73873174 0.73621428 0.7336024\n",
            " 0.73090464 0.72813129 0.72529382 0.72240365]\n",
            "28 day output [[0.7194717]]\n",
            "29 day input [0.85615536 0.85616582 0.85167949 0.84228855 0.8455827  0.86908098\n",
            " 0.87421568 0.88353342 0.87699741 0.88181837 0.87627583 0.89552832\n",
            " 0.90436501 0.90297415 0.89825776 0.91692462 0.91692462 0.91924621\n",
            " 0.92079394 0.92251945 0.92433908 0.91294027 0.91631808 0.89589434\n",
            " 0.89897934 0.90208525 0.90204342 0.94622689 0.94566218 0.94556806\n",
            " 0.95556555 0.95595248 0.96329373 0.95564921 0.96580356 0.97197356\n",
            " 0.96091985 0.95718648 0.95410148 0.95456162 0.94909228 0.96170417\n",
            " 0.94854848 0.94726219 0.96361792 0.96531206 0.97012256 0.98632143\n",
            " 0.97720238 0.95010667 0.9488413  0.93723333 0.92342926 0.93151301\n",
            " 0.94523341 0.9576257  0.96265582 0.96536434 0.9620179  0.9647578\n",
            " 0.97111604 0.98631097 1.         0.994447   0.98794236 0.98510834\n",
            " 0.98302727 0.97987953 0.97397097 0.96952648 0.96685978 0.88045394\n",
            " 0.8527658  0.83193755 0.81757152 0.80558962 0.79497111 0.78601235\n",
            " 0.77875692 0.77294058 0.76825094 0.76442683 0.76125515 0.75855666\n",
            " 0.75618029 0.75400317 0.75192839 0.7498827  0.74781227 0.74568015\n",
            " 0.74346316 0.74114853 0.73873174 0.73621428 0.7336024  0.73090464\n",
            " 0.72813129 0.72529382 0.72240365 0.71947169]\n",
            "29 day output [[0.71650887]]\n",
            "[[0.8804539442062378], [0.8527657985687256], [0.8319375514984131], [0.8175715208053589], [0.8055896162986755], [0.7949711084365845], [0.7860123515129089], [0.7787569165229797], [0.7729405760765076], [0.7682509422302246], [0.7644268274307251], [0.761255145072937], [0.7585566639900208], [0.7561802864074707], [0.7540031671524048], [0.7519283890724182], [0.749882698059082], [0.7478122711181641], [0.7456801533699036], [0.7434631586074829], [0.7411485314369202], [0.7387317419052124], [0.736214280128479], [0.7336024045944214], [0.7309046387672424], [0.7281312942504883], [0.7252938151359558], [0.7224036455154419], [0.7194716930389404], [0.7165088653564453]]\n"
          ]
        }
      ],
      "source": [
        "from numpy import array\n",
        "\n",
        "lst_output=[]\n",
        "n_steps=100\n",
        "i=0\n",
        "while(i<30):\n",
        "\n",
        "    if(len(temp_input)>100):\n",
        "        #print(temp_input)\n",
        "        x_input=np.array(temp_input[1:])\n",
        "        print(\"{} day input {}\".format(i,x_input))\n",
        "        x_input=x_input.reshape(1,-1)\n",
        "        x_input = x_input.reshape((1, n_steps, 1))\n",
        "        #print(x_input)\n",
        "        yhat = model.predict(x_input, verbose=0)\n",
        "        print(\"{} day output {}\".format(i,yhat))\n",
        "        temp_input.extend(yhat[0].tolist())\n",
        "        temp_input=temp_input[1:]\n",
        "        #print(temp_input)\n",
        "        lst_output.extend(yhat.tolist())\n",
        "        i=i+1\n",
        "    else:\n",
        "        x_input = x_input.reshape((1, n_steps,1))\n",
        "        yhat = model.predict(x_input, verbose=0)\n",
        "        print(yhat[0])\n",
        "        temp_input.extend(yhat[0].tolist())\n",
        "        print(len(temp_input))\n",
        "        lst_output.extend(yhat.tolist())\n",
        "        i=i+1\n",
        "\n",
        "\n",
        "print(lst_output)"
      ]
    },
    {
      "cell_type": "code",
      "execution_count": 103,
      "metadata": {
        "id": "tm9__MPs50wI"
      },
      "outputs": [],
      "source": [
        "day_new=np.arange(1,3020)\n",
        "day_pred=np.arange(3020,3050)"
      ]
    },
    {
      "cell_type": "code",
      "execution_count": 101,
      "metadata": {
        "colab": {
          "base_uri": "https://localhost:8080/"
        },
        "id": "2MjxNcoA9ZvG",
        "outputId": "f1267e35-852e-420e-f694-67ed67a7505c"
      },
      "outputs": [
        {
          "data": {
            "text/plain": [
              "3019"
            ]
          },
          "execution_count": 101,
          "metadata": {},
          "output_type": "execute_result"
        }
      ],
      "source": [
        "len(day_new)"
      ]
    },
    {
      "cell_type": "code",
      "execution_count": 104,
      "metadata": {
        "colab": {
          "base_uri": "https://localhost:8080/"
        },
        "id": "MZ9AYbtW9ZNn",
        "outputId": "eb514b79-514f-40ae-9400-c632ecda08e2"
      },
      "outputs": [
        {
          "data": {
            "text/plain": [
              "30"
            ]
          },
          "execution_count": 104,
          "metadata": {},
          "output_type": "execute_result"
        }
      ],
      "source": [
        "len(day_pred)"
      ]
    },
    {
      "cell_type": "code",
      "execution_count": 95,
      "metadata": {
        "colab": {
          "base_uri": "https://localhost:8080/"
        },
        "id": "2GdJnBcc50wJ",
        "outputId": "47b96cd0-7615-4cb7-8a96-e7dc5f778688"
      },
      "outputs": [
        {
          "data": {
            "text/plain": [
              "3019"
            ]
          },
          "execution_count": 95,
          "metadata": {},
          "output_type": "execute_result"
        }
      ],
      "source": [
        "len(df1)"
      ]
    },
    {
      "cell_type": "code",
      "execution_count": 96,
      "metadata": {
        "colab": {
          "base_uri": "https://localhost:8080/"
        },
        "id": "Eqo7Kw9muHhA",
        "outputId": "8585741b-9faa-4e78-f202-27558b2ec290"
      },
      "outputs": [
        {
          "data": {
            "text/plain": [
              "30"
            ]
          },
          "execution_count": 96,
          "metadata": {},
          "output_type": "execute_result"
        }
      ],
      "source": [
        "len(lst_output)"
      ]
    },
    {
      "cell_type": "code",
      "execution_count": 115,
      "metadata": {
        "colab": {
          "base_uri": "https://localhost:8080/",
          "height": 564
        },
        "id": "ULwteO33Cm9A",
        "outputId": "0c91d343-51a5-4608-c05b-b9e2ee53606b"
      },
      "outputs": [
        {
          "data": {
            "image/png": "[encoded data removed]",
            "text/plain": [
              "<Figure size 800x600 with 1 Axes>"
            ]
          },
          "metadata": {},
          "output_type": "display_data"
        }
      ],
      "source": [
        "plt.figure(figsize=(8, 6))\n",
        "plt.plot(day_new, scaler.inverse_transform(df1), label='Dataset prices', color='blue')\n",
        "plt.plot(day_pred, scaler.inverse_transform(lst_output), label='Forecasted prices', color='red')\n",
        "plt.xlabel('Days')\n",
        "plt.ylabel('Prices')\n",
        "plt.title('Original vs Forecasted Prices')\n",
        "plt.legend()\n",
        "plt.grid(True)\n",
        "plt.show()"
      ]
    },
    {
      "cell_type": "code",
      "execution_count": 117,
      "metadata": {
        "colab": {
          "base_uri": "https://localhost:8080/",
          "height": 487
        },
        "id": "4RQ6KjyO50wJ",
        "outputId": "3f26ea23-39a8-4d5b-e318-aced4c6159bf"
      },
      "outputs": [
        {
          "data": {
            "image/png": "[encoded data removed]",
            "text/plain": [
              "<Figure size 640x480 with 1 Axes>"
            ]
          },
          "metadata": {},
          "output_type": "display_data"
        }
      ],
      "source": [
        "df3=df1.tolist()\n",
        "df3.extend(lst_output)\n",
        "sns.set_style(\"darkgrid\")\n",
        "plt.plot(df3)\n",
        "plt.title(\"Google Stock Price\",fontsize=18, fontweight='bold')\n",
        "plt.xlabel('Days',fontsize=18)\n",
        "plt.ylabel('Close Price (USD)',fontsize=18)\n",
        "plt.show()"
      ]
    }
  ],
  "metadata": {
    "accelerator": "GPU",
    "colab": {
      "gpuType": "T4",
      "provenance": []
    },
    "kernelspec": {
      "display_name": "Python 3",
      "name": "python3"
    },
    "language_info": {
      "codemirror_mode": {
        "name": "ipython",
        "version": 3
      },
      "file_extension": ".py",
      "mimetype": "text/x-python",
      "name": "python",
      "nbconvert_exporter": "python",
      "pygments_lexer": "ipython3",
      "version": "3.6.9"
    }
  },
  "nbformat": 4,
  "nbformat_minor": 0
}
